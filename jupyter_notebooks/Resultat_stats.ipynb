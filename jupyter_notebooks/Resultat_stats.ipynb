{
 "cells": [
  {
   "cell_type": "code",
   "execution_count": 4,
   "id": "1be25be4",
   "metadata": {},
   "outputs": [],
   "source": [
    "#general import\n",
    "import os\n",
    "import numpy as np\n",
    "import pandas as pd\n",
    "\n",
    "#nn import\n",
    "from torch import device, load\n",
    "\n",
    "#stats import\n",
    "from scipy.stats import ttest_rel, wilcoxon\n",
    "from statistics import median\n",
    "\n",
    "#brain visualization import\n",
    "from nilearn import regions, maskers, datasets, surface, plotting, image\n",
    "from nilearn.plotting import plot_roi, plot_stat_map\n",
    "from nilearn.maskers import NiftiMasker\n",
    "\n",
    "#package import (for class) --> TO CHANGE\n",
    "import sys\n",
    "sys.path.append('/home/maelle/GitHub_repositories/cNeuromod_encoding_2020')  \n",
    "import models"
   ]
  },
  {
   "cell_type": "code",
   "execution_count": 5,
   "id": "45c6b72f",
   "metadata": {},
   "outputs": [
    {
     "name": "stdout",
     "output_type": "stream",
     "text": [
      "Index(['roi', 'label', 'name', 'size', 'symmetry', 'laterality', 'x', 'y', 'z',\n",
      "       'neighbour', 'parent', 'overlap'],\n",
      "      dtype='object')\n"
     ]
    }
   ],
   "source": [
    "out_path = '/home/maelle/Results/figures/surface'\n",
    "r2_test_model_path = '/home/maelle/Results/best_models'\n",
    "r2_by_run_path = '/home/maelle/Results/best_models/predict_S4_runs'\n",
    "MIST_path = '/home/maelle/DataBase/fMRI_parcellations/MIST_parcellation/Parcellations/MIST_ROI.nii.gz'\n",
    "voxel_mask = '/home/maelle/GitHub_repositories/cNeuromod_encoding_2020/parcellation/STG_middle.nii.gz'\n",
    "mist_roi_labels = '/home/maelle/DataBase/fMRI_parcellations/MIST_parcellation/Parcel_Information/MIST_ROI.csv'\n",
    "\n",
    "label_pd = pd.read_csv(mist_roi_labels, sep=';')\n",
    "print(label_pd.columns)\n",
    "\n",
    "subs = ['sub-01', 'sub-02', 'sub-03', 'sub-04', 'sub-05', 'sub-06']\n",
    "scale = ['MIST_ROI', 'auditory_Voxels'] \n",
    "conv = 'conv4'\n",
    "baseline = 'no_ft'\n",
    "null_model = 'no_init'\n",
    "diff_name = '{}-{}'.format(conv, baseline)"
   ]
  },
  {
   "cell_type": "code",
   "execution_count": null,
   "id": "aee0ccb9",
   "metadata": {},
   "outputs": [],
   "source": [
    "\n",
    "df_all = pd.DataFrame(columns = ['model_sub', 'scale', 'conv', ])\n",
    "for sub in subs:\n",
    "    sub_path = os.path.join(dir_path, dir_name+sub)\n",
    "    data_sub = sub\n",
    "    print(data_sub)\n",
    "    for model in os.listdir(sub_path):\n",
    "        model_path = os.path.join(sub_path, model)\n",
    "        r2_array = np.load(model_path)\n",
    "        r2max_array = np.max(r2_array, axis=1)\n",
    "        \n",
    "        model_sub = model[:len('sub-0')+1]\n",
    "        scale = 'whole brain' if 'MIST_ROI' in model else 'stg'\n",
    "        finetune_cond = model.find('_f_') \n",
    "        conv = model[finetune_cond+3:finetune_cond+3+len('conv')+1] if finetune_cond>-1 else 'no'\n",
    "        \n",
    "        model_data = {\n",
    "            'model_sub':np.full(len(r2max_array), model_sub),\n",
    "            'data_sub':np.full(len(r2max_array),data_sub), \n",
    "            'scale':np.full(len(r2max_array),scale), \n",
    "            'conv':np.full(len(r2max_array),conv), \n",
    "            'r²': r2max_array\n",
    "                     }\n",
    "        model_df = pd.DataFrame(model_data)\n",
    "        df_all = pd.concat((df_all, model_df), axis='rows')"
   ]
  },
  {
   "cell_type": "code",
   "execution_count": 6,
   "id": "9b4262f4",
   "metadata": {},
   "outputs": [],
   "source": [
    "def sum_conditions(conditions) : \n",
    "    correct = True\n",
    "    for condition in conditions:\n",
    "        if condition == False:\n",
    "            correct = False\n",
    "            break\n",
    "    return correct"
   ]
  },
  {
   "cell_type": "code",
   "execution_count": 7,
   "id": "ff36dfc3",
   "metadata": {},
   "outputs": [],
   "source": [
    "def get_specific_file_path(path, *cond):\n",
    "    specific_file_path = None\n",
    "    for file in os.listdir(path):\n",
    "        filepath = os.path.join(path, file)\n",
    "        conditions = [(obj in file) if boolean else (obj not in file) for (obj, boolean) in cond]\n",
    "        specific_file = sum_conditions(conditions)\n",
    "        specific_file_path = filepath if specific_file else specific_file_path\n",
    "    return specific_file_path"
   ]
  },
  {
   "cell_type": "code",
   "execution_count": 8,
   "id": "86d15eeb",
   "metadata": {},
   "outputs": [],
   "source": [
    "def df_runs_from_n_best_roi(data, n, columns_label = label_pd['label']):\n",
    "    runs_df = pd.DataFrame(data, columns=columns_label)  \n",
    "    median_runs_df = runs_df.median().sort_values(ascending=False)\n",
    "    best_n_roi = list(median_runs_df.head(n).index)\n",
    "\n",
    "    all_runs_df = runs_df.melt(var_name = 'roi', value_name='r2')\n",
    "    best_runs = all_runs_df.loc[(all_runs_df['roi'].isin(best_n_roi))].copy()\n",
    "    best_runs['subject'] = sub\n",
    "\n",
    "    return (best_n_roi, best_runs)"
   ]
  },
  {
   "cell_type": "code",
   "execution_count": 9,
   "id": "c642a7d7",
   "metadata": {},
   "outputs": [],
   "source": [
    "def stats_between_pop(pop1, pop2, test = ttest_rel, threshold = 0.05, difference=False):\n",
    "    sign_diff_rois = []\n",
    "    for i, (pop1_roi, pop2_roi) in enumerate(zip(pop1, pop2)):\n",
    "        if difference :\n",
    "            pop1_roi = pop1_roi - pop2_roi\n",
    "            pop2_roi = None\n",
    "        stat, pvalue = test(pop1_roi, pop2_roi)\n",
    "        if pvalue <= threshold :\n",
    "            sign_diff_rois.append((i, pvalue))\n",
    "    return sign_diff_rois"
   ]
  },
  {
   "cell_type": "code",
   "execution_count": 10,
   "id": "5ec301b7",
   "metadata": {},
   "outputs": [],
   "source": [
    "def best_rois_in_MIST_array(data_array, nb_occ=3):\n",
    "    a = np.unique(np.argmax(data_array, axis=1), return_counts=True)\n",
    "    nb_i = [(i, nb, label_pd['label'].iloc[i]) for i, nb in zip(a[0], a[1]) if nb>=nb_occ]\n",
    "    return nb_i"
   ]
  }
 ],
 "metadata": {
  "kernelspec": {
   "display_name": "Python 3",
   "language": "python",
   "name": "python3"
  },
  "language_info": {
   "codemirror_mode": {
    "name": "ipython",
    "version": 3
   },
   "file_extension": ".py",
   "mimetype": "text/x-python",
   "name": "python",
   "nbconvert_exporter": "python",
   "pygments_lexer": "ipython3",
   "version": "3.7.5"
  }
 },
 "nbformat": 4,
 "nbformat_minor": 5
}
