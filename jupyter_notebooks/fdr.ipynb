{
 "cells": [
  {
   "cell_type": "markdown",
   "metadata": {},
   "source": [
    "$\\newcommand{L}[1]{\\| #1 \\|}\\newcommand{VL}[1]{\\L{ \\vec{#1} }}\\newcommand{R}[1]{\\operatorname{Re}\\,(#1)}\\newcommand{I}[1]{\\operatorname{Im}\\, (#1)}$\n",
    "\n",
    "## Thresholding with false discovery rate\n",
    "\n",
    "Written with J-B Poline.\n",
    "\n",
    "The false discovery rate is a different *type* of correction than\n",
    "family-wise correction. Instead of controlling for the risk of *any\n",
    "tests* falsely being declared significant under the null hypothesis, FDR\n",
    "will control the *number of tests falsely declared significant as a\n",
    "proportion of the number of all tests declared significant*.\n",
    "\n",
    "A basic idea on how the FDR works is the following.\n",
    "\n",
    "We have got a large number of p values from a set of individual tests.\n",
    "These might be p values from tests on a set of brain voxels.\n",
    "\n",
    "We are trying to a find a p value threshold $\\theta$ to do a\n",
    "reasonable job of distinguishing true positive tests from true\n",
    "negatives. p values that are less than or equal to $\\theta$ are\n",
    "*detections* and $\\theta$ is a *detection threshold*.\n",
    "\n",
    "We want to choose a detection threshold that will only allow a small\n",
    "number of false positive detections.\n",
    "\n",
    "A *detection* can also be called a *discovery*; hence false discovery\n",
    "rate.\n",
    "\n",
    "For the FDR, we will try to find a p value within the family of tests\n",
    "(the set of p values), that we can use as a detection threshold.\n",
    "\n",
    "Let’s look at the p value for a particular test. Let’s say there are\n",
    "$N$ tests, indexed with $i \\in 1 .. N$. We look at a test\n",
    "$i$, and consider using p value from this test as a detection\n",
    "threshold; $\\theta = p(i)$. The expected number of false positives\n",
    "(FP) in N tests at this detection threshold would be:\n",
    "\n",
    "$$\n",
    "E(FP) = N p(i)\n",
    "$$\n",
    "\n",
    "For example, if we had 100 tests, and the particular p value\n",
    "$p(i)$ was 0.1, then the expected number of false positive\n",
    "detections, thresholding at 0.1, is 0.1 \\* 100 = 10.\n",
    "\n",
    "Let’s take some data from a random normal distribution to illustrate:"
   ]
  },
  {
   "cell_type": "code",
   "execution_count": 1,
   "metadata": {},
   "outputs": [],
   "source": [
    "from __future__ import print_function, division\n",
    "import numpy as np\n",
    "import matplotlib.pyplot as plt"
   ]
  },
  {
   "cell_type": "code",
   "execution_count": 2,
   "metadata": {},
   "outputs": [],
   "source": [
    "%matplotlib inline"
   ]
  },
  {
   "cell_type": "code",
   "execution_count": 5,
   "metadata": {},
   "outputs": [
    {
     "name": "stdout",
     "output_type": "stream",
     "text": [
      "[ 0.49671415 -0.1382643   0.64768854  1.52302986 -0.23415337 -0.23413696\n",
      "  1.57921282  0.76743473 -0.46947439  0.54256004 -0.46341769 -0.46572975\n",
      "  0.24196227 -1.91328024 -1.72491783 -0.56228753 -1.01283112  0.31424733\n",
      " -0.90802408 -1.4123037   1.46564877 -0.2257763   0.0675282  -1.42474819\n",
      " -0.54438272  0.11092259 -1.15099358  0.37569802 -0.60063869 -0.29169375\n",
      " -0.60170661  1.85227818 -0.01349722 -1.05771093  0.82254491 -1.22084365\n",
      "  0.2088636  -1.95967012 -1.32818605  0.19686124  0.73846658  0.17136828\n",
      " -0.11564828 -0.3011037  -1.47852199 -0.71984421 -0.46063877  1.05712223\n",
      "  0.34361829 -1.76304016  0.32408397 -0.38508228 -0.676922    0.61167629\n",
      "  1.03099952  0.93128012 -0.83921752 -0.30921238  0.33126343  0.97554513\n",
      " -0.47917424 -0.18565898 -1.10633497 -1.19620662  0.81252582  1.35624003\n",
      " -0.07201012  1.0035329   0.36163603 -0.64511975  0.36139561  1.53803657\n",
      " -0.03582604  1.56464366 -2.6197451   0.8219025   0.08704707 -0.29900735\n",
      "  0.09176078 -1.98756891 -0.21967189  0.35711257  1.47789404 -0.51827022\n",
      " -0.8084936  -0.50175704  0.91540212  0.32875111 -0.5297602   0.51326743\n",
      "  0.09707755  0.96864499 -0.70205309 -0.32766215 -0.39210815 -1.46351495\n",
      "  0.29612028  0.26105527  0.00511346 -0.23458713]\n"
     ]
    }
   ],
   "source": [
    "np.random.seed(42) # so we always get the same random numbers\n",
    "N = 100\n",
    "z_values = np.random.normal(size=N)\n",
    "print(z_values)"
   ]
  },
  {
   "cell_type": "markdown",
   "metadata": {},
   "source": [
    "Turn the Z values into p values:"
   ]
  },
  {
   "cell_type": "code",
   "execution_count": 6,
   "metadata": {},
   "outputs": [
    {
     "name": "stdout",
     "output_type": "stream",
     "text": [
      "[0.69030468 0.44501577 0.74140679 0.93612438 0.40743296 0.40743933\n",
      " 0.94285637 0.77858846 0.31936529 0.70628362 0.3215325  0.32070448\n",
      " 0.5955953  0.02785609 0.04227114 0.28696007 0.15557042 0.6233334\n",
      " 0.18193275 0.07893028 0.928628   0.41068771 0.5269194  0.077115\n",
      " 0.29308907 0.54416113 0.12486744 0.64642929 0.27404033 0.38526039\n",
      " 0.27368472 0.96800706 0.49461555 0.14509363 0.79461658 0.11107261\n",
      " 0.58272264 0.02501718 0.09205833 0.57803194 0.76988452 0.5680329\n",
      " 0.45396565 0.38166771 0.06963406 0.23581046 0.3225289  0.8547721\n",
      " 0.63443332 0.03894686 0.62706277 0.35008823 0.24922772 0.72962402\n",
      " 0.84872948 0.82414566 0.20067363 0.37857999 0.62977724 0.83535504\n",
      " 0.31590734 0.4263561  0.13429078 0.11580797 0.79175501 0.9124886\n",
      " 0.47129693 0.84219809 0.64118798 0.25942479 0.64109813 0.93798016\n",
      " 0.48571054 0.94116676 0.00439978 0.79443381 0.53468295 0.38246722\n",
      " 0.53655595 0.02342969 0.41306335 0.63949623 0.93028193 0.30213487\n",
      " 0.20940324 0.30791922 0.82000972 0.62882809 0.2981391  0.69611787\n",
      " 0.5386676  0.83363883 0.24132303 0.37158356 0.34748915 0.07166326\n",
      " 0.61643089 0.60297506 0.50203997 0.4072646 ]\n"
     ]
    }
   ],
   "source": [
    "import scipy.stats as sst\n",
    "normal_distribution = sst.norm(loc=0,scale=1.) #loc is the mean, scale is the variance.\n",
    "# The normal CDF\n",
    "p_values = normal_distribution.cdf(z_values)\n",
    "print(p_values)"
   ]
  },
  {
   "cell_type": "markdown",
   "metadata": {},
   "source": [
    "To make it easier to show, we sort the p values from smallest to\n",
    "largest:"
   ]
  },
  {
   "cell_type": "code",
   "execution_count": 7,
   "metadata": {},
   "outputs": [
    {
     "data": {
      "text/plain": [
       "Text(0, 0.5, 'p value')"
      ]
     },
     "execution_count": 7,
     "metadata": {},
     "output_type": "execute_result"
    },
    {
     "data": {
      "image/png": "[encoded data removed]",
      "text/plain": [
       "<Figure size 432x288 with 1 Axes>"
      ]
     },
     "metadata": {
      "needs_background": "light"
     },
     "output_type": "display_data"
    }
   ],
   "source": [
    "p_values = np.sort(p_values)\n",
    "i = np.arange(1, N+1) # the 1-based i index of the p values, as in p(i)\n",
    "plt.plot(i, p_values, '.')\n",
    "plt.xlabel('$i$')\n",
    "plt.ylabel('p value')"
   ]
  },
  {
   "cell_type": "markdown",
   "metadata": {},
   "source": [
    "Notice the (more or less) straight line of p value against $i$\n",
    "index in this case, where there is no signal in the random noise.\n",
    "\n",
    "We want to find a p value threshold $p(i)$ where there is only a\n",
    "small *proportion* of false positives among the detections. For example,\n",
    "we might accept a threshold such that 5% of all detections (discoveries)\n",
    "are likely to be false positives. If $d$ is the number of\n",
    "discoveries at threshold $\\theta$, and $q$ is the proportion\n",
    "of false positives we will accept (e.g. 0.05), then we want a threshold\n",
    "$\\theta$ such that $E(FP) / d < q$ where $E(x)$ is the\n",
    "expectation of $x$, here the number of FP I would get *on average*\n",
    "if I was to repeat my experiment many times.\n",
    "\n",
    "So - what is $d$ in the plot above? Now that we have ordered the p\n",
    "values, for any index $i$, if we threshold at\n",
    "$\\theta \\le p(i)$ we will have $i$ detections\n",
    "($d = i$). Therefore we want to find the largest $p(i)$ such\n",
    "that $E(FP) / i < q$. We know $E(FP) = N p(i)$ so we want\n",
    "the largest $p(i)$ such that:\n",
    "\n",
    "$$\n",
    "N p(i) / i < q \\implies p(i) < q i / N\n",
    "$$\n",
    "\n",
    "Let’s take $q$ (the proportion of false discoveries = detections)\n",
    "as 0.05. We plot $q i / N$ (in red) on the same graph as\n",
    "$p(i)$ (in blue):"
   ]
  },
  {
   "cell_type": "code",
   "execution_count": 8,
   "metadata": {},
   "outputs": [
    {
     "data": {
      "text/plain": [
       "<matplotlib.legend.Legend at 0x7fb0c85abfd0>"
      ]
     },
     "execution_count": 8,
     "metadata": {},
     "output_type": "execute_result"
    },
    {
     "data": {
      "image/png": "[encoded data removed]",
      "text/plain": [
       "<Figure size 432x288 with 1 Axes>"
      ]
     },
     "metadata": {
      "needs_background": "light"
     },
     "output_type": "display_data"
    }
   ],
   "source": [
    "q = 0.05\n",
    "plt.plot(i, p_values, 'b.', label='$p(i)$')\n",
    "plt.plot(i, q * i / N, 'r', label='$q i / N$')\n",
    "plt.xlabel('$i$')\n",
    "plt.ylabel('$p$')\n",
    "plt.legend()"
   ]
  },
  {
   "cell_type": "markdown",
   "metadata": {},
   "source": [
    "Our job is to look for the largest $p(i)$ value (blue dot) that is\n",
    "still underneath $q i / N$ (the red line).\n",
    "\n",
    "The red line $q i / N$ is the acceptable number of false positives\n",
    "$q i$ as a proportion of all the tests $N$. Further to the\n",
    "right on the red line corresponds to a larger acceptable number of false\n",
    "positives. For example, for $i = 1$, the acceptable number of\n",
    "false positives $q * i$ is $0.05 * 1$, but at\n",
    "$i = 50$, the acceptable number of expected false positives\n",
    "$q * i$ is $0.05 * 50 = 2.5$.\n",
    "\n",
    "Notice that, if only the first p value passes threshold, then\n",
    "$p(1) < q \\space 1 \\space / \\space N$. So, if $q = 0.05$,\n",
    "$p(1) < 0.05 / N$. This is the Bonferroni correction for $N$\n",
    "tests.\n",
    "\n",
    "The FDR becomes more interesting when there is signal in the noise. In\n",
    "this case there will be p values that are smaller than expected on the\n",
    "null hypothesis. This causes the p value line to start below the\n",
    "diagonal on the ordered plot, because of the high density of low p\n",
    "values."
   ]
  },
  {
   "cell_type": "code",
   "execution_count": 9,
   "metadata": {},
   "outputs": [
    {
     "data": {
      "text/plain": [
       "<matplotlib.legend.Legend at 0x7fb0ba944210>"
      ]
     },
     "execution_count": 9,
     "metadata": {},
     "output_type": "execute_result"
    },
    {
     "data": {
      "image/png": "[encoded data removed]",
      "text/plain": [
       "<Figure size 432x288 with 1 Axes>"
      ]
     },
     "metadata": {
      "needs_background": "light"
     },
     "output_type": "display_data"
    }
   ],
   "source": [
    "N_signal = 20\n",
    "N_noise = N - N_signal\n",
    "noise_z_values = np.random.normal(size=N_noise)\n",
    "# Add some signal with very low z scores / p values\n",
    "signal_z_values = np.random.normal(loc=-2.5, size=N_signal)\n",
    "mixed_z_values = np.sort(np.concatenate((noise_z_values, signal_z_values)))\n",
    "mixed_p_values = normal_distribution.cdf(mixed_z_values)\n",
    "plt.plot(i, mixed_p_values, 'b.', label='$p(i)$')\n",
    "plt.plot(i, q * i / N, 'r', label='$q i / N$')\n",
    "plt.xlabel('$i$')\n",
    "plt.ylabel('$p$')\n",
    "plt.legend()"
   ]
  },
  {
   "cell_type": "markdown",
   "metadata": {},
   "source": [
    "The interesting part is the beginning of the graph, where the blue p\n",
    "values stay below the red line:"
   ]
  },
  {
   "cell_type": "code",
   "execution_count": 10,
   "metadata": {},
   "outputs": [
    {
     "data": {
      "text/plain": [
       "<matplotlib.legend.Legend at 0x7fb0baacba50>"
      ]
     },
     "execution_count": 10,
     "metadata": {},
     "output_type": "execute_result"
    },
    {
     "data": {
      "image/png": "[encoded data removed]",
      "text/plain": [
       "<Figure size 432x288 with 1 Axes>"
      ]
     },
     "metadata": {
      "needs_background": "light"
     },
     "output_type": "display_data"
    }
   ],
   "source": [
    "first_i = i[:30]\n",
    "plt.plot(first_i, mixed_p_values[:30], 'b.', label='$p(i)$')\n",
    "plt.plot(first_i, q * first_i / N, 'r', label='$q i / N$')\n",
    "plt.xlabel('$i$')\n",
    "plt.ylabel('$p$')\n",
    "plt.legend()"
   ]
  },
  {
   "cell_type": "markdown",
   "metadata": {},
   "source": [
    "We are looking for the largest $p(i) < qi/N$, which corresponds to\n",
    "the last blue point below the red line."
   ]
  },
  {
   "cell_type": "code",
   "execution_count": 11,
   "metadata": {},
   "outputs": [
    {
     "name": "stdout",
     "output_type": "stream",
     "text": [
      "p_i: 0.0032300746678304683\n",
      "i: 9\n"
     ]
    }
   ],
   "source": [
    "below = mixed_p_values < (q * i / N) # True where p(i)<qi/N\n",
    "max_below = np.max(np.where(below)[0]) # Max Python array index where p(i)<qi/N\n",
    "print('p_i:', mixed_p_values[max_below])\n",
    "print('i:', max_below + 1) # Python indices 0-based, we want 1-based"
   ]
  },
  {
   "cell_type": "markdown",
   "metadata": {},
   "source": [
    "The Bonferroni threshold is:"
   ]
  },
  {
   "cell_type": "code",
   "execution_count": 12,
   "metadata": {},
   "outputs": [
    {
     "data": {
      "text/plain": [
       "0.0005"
      ]
     },
     "execution_count": 12,
     "metadata": {},
     "output_type": "execute_result"
    }
   ],
   "source": [
    "0.05 / N"
   ]
  },
  {
   "cell_type": "markdown",
   "metadata": {},
   "source": [
    "In this case, where there is signal in the noise, the FDR threshold\n",
    "*adapts* to the presence of the signal, by taking into account that some\n",
    "values have small enough p values that they can be assumed to be signal,\n",
    "so that there are fewer noise comparisons to correct for, and the\n",
    "threshold is correspondingly less stringent.\n",
    "\n",
    "As the FDR threshold becomes less stringent, the number of detections\n",
    "increases, and the expected number of false positive detections\n",
    "increases, because the FDR controls the *proportion* of false positives\n",
    "in the detections. In our case, the expected number of false positives\n",
    "in the detections is $q i = 0.05 * 9 = 0.45$. In other words, at\n",
    "this threshold, we have a 45% chance of seeing a false positive among\n",
    "the detected positive tests.\n",
    "\n",
    "So, there are a number of interesting properties of the FDR - and some\n",
    "not so interesting if you want to do brain imaging.\n",
    "\n",
    "* In the case of no signal at all, the FDR threshold will be the\n",
    "  Bonferroni threshold\n",
    "\n",
    "* Under some conditions (see Benjamini and Hochberg, JRSS-B 1995), the\n",
    "  FDR threshold can be applied to correlated data\n",
    "\n",
    "* FDR is an “adaptive” threshold\n",
    "\n",
    "Not so “interesting”\n",
    "\n",
    "* FDR can be very variable\n",
    "\n",
    "* When there are lots of true positives, and many detections, the\n",
    "  number of false positive detections increases. This can make FDR\n",
    "  detections more difficult to interpret."
   ]
  }
 ],
 "metadata": {
  "kernelspec": {
   "display_name": "Python 3 (ipykernel)",
   "language": "python",
   "name": "python3"
  },
  "language_info": {
   "codemirror_mode": {
    "name": "ipython",
    "version": 3
   },
   "file_extension": ".py",
   "mimetype": "text/x-python",
   "name": "python",
   "nbconvert_exporter": "python",
   "pygments_lexer": "ipython3",
   "version": "3.10.12"
  }
 },
 "nbformat": 4,
 "nbformat_minor": 4
}
