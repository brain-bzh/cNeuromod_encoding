{
 "cells": [
  {
   "cell_type": "code",
   "execution_count": 1,
   "metadata": {},
   "outputs": [
    {
     "name": "stderr",
     "output_type": "stream",
     "text": [
      "/home/maelle/anaconda3/lib/python3.6/site-packages/nilearn/__init__.py:69: FutureWarning: Python 3.6 support is deprecated and will be removed in release 0.10 of Nilearn. Consider switching to Python 3.8 or 3.9.\n",
      "  _python_deprecation_warnings()\n"
     ]
    }
   ],
   "source": [
    "import os\n",
    "import numpy as np\n",
    "import pandas as pd\n",
    "import nibabel as nib\n",
    "from matplotlib import pyplot as plt\n",
    "from nilearn import datasets, plotting, image\n",
    "from torch import load, device\n",
    "from nilearn.plotting import plot_roi, plot_stat_map"
   ]
  },
  {
   "cell_type": "code",
   "execution_count": 2,
   "metadata": {},
   "outputs": [],
   "source": [
    "atlas_yeo_2011 = datasets.fetch_atlas_yeo_2011()\n",
    "yeo = atlas_yeo_2011.thick_7\n",
    "mist = '/home/maelle/DataBase/fMRI_parcellations/MIST_parcellation/Parcellations/MIST_ROI.nii.gz'"
   ]
  },
  {
   "cell_type": "code",
   "execution_count": 3,
   "metadata": {},
   "outputs": [],
   "source": [
    "from nilearn.maskers import NiftiMasker\n",
    "masker = NiftiMasker(standardize=False, detrend=False)\n",
    "masker.fit(mist)\n",
    "mist_vec = masker.transform(mist)\n",
    "import numpy as np\n",
    "np.unique(mist_vec)\n",
    "yeo_vec = masker.transform(yeo)\n",
    "yeo_vec = np.round(yeo_vec)\n",
    "np.unique(yeo_vec)\n",
    "matches = []\n",
    "match = []\n",
    "best_overlap = []\n",
    "for i, roi in enumerate(np.unique(mist_vec)):\n",
    "    overlap = []\n",
    "    for roi2 in np.unique(yeo_vec):\n",
    "        overlap.append(np.sum(yeo_vec[mist_vec == roi] == roi2) / np.sum(mist_vec == roi))\n",
    "    best_overlap.append(np.max(overlap))\n",
    "    match.append(np.argmax(overlap))\n",
    "    matches.append((i+1, np.argmax(overlap)))\n",
    "\n",
    "#print(matches)\n",
    "#for ind, roi in enumerate(np.unique(mist_vec)):\n",
    "#    print(f'roi {int(roi)} in MIST has maximal overlap with Yeo network {match[ind]} ({best_overlap[ind]})')"
   ]
  },
  {
   "cell_type": "code",
   "execution_count": 7,
   "metadata": {},
   "outputs": [],
   "source": [
    "yeo_labels = ['None', 'Visual', 'Somatomotor', 'Dorsal Att.', 'Ventral Att.', \n",
    "                  'Limbic', 'Frontoparietal', 'Default', 'Audition'] \n",
    "def MIST_to_yeo(data, matches, yeo_labels=yeo_labels):\n",
    "    yeo_networks = [np.array([]).reshape(-1, 47), np.array([]).reshape(-1, 47), np.array([]).reshape(-1, 47),\n",
    "                   np.array([]).reshape(-1, 47), np.array([]).reshape(-1, 47), np.array([]).reshape(-1, 47),\n",
    "                   np.array([]).reshape(-1, 47), np.array([]).reshape(-1, 47)]\n",
    "    auditory_mist_roi = ['L_STgyr_m', 'R_STgyr_m', 'L_STgyr_p', 'R_STgyr_p', 'R_HSgyr']# 'L_HSgyr'] #, L_STgyr_a', 'R_STgyr_a', \n",
    "    auditory_network = np.array([]).reshape(-1, 47) \n",
    "    data_transpose = data.T\n",
    "    for roi, (i, yeo_i) in zip(data_transpose, matches):\n",
    "            roi = roi.reshape(1, -1)\n",
    "            yeo_networks[yeo_i] = np.concatenate((yeo_networks[yeo_i], roi), axis=0)\n",
    "            if roi_dataframe['label'][i-1] in auditory_mist_roi:\n",
    "                auditory_network = np.concatenate((auditory_network, roi), axis=0)\n",
    "    results = np.array([]).reshape(-1, 47)\n",
    "    for net in yeo_networks:\n",
    "            array_mean = np.mean(net, axis=0).reshape(1,-1)\n",
    "            results = np.concatenate((results, array_mean), axis=0)\n",
    "\n",
    "\n",
    "    auditory_mean = auditory_network.mean(axis=0).reshape(1,-1)\n",
    "    results = np.concatenate((results, auditory_mean), axis=0)\n",
    "\n",
    "    return pd.DataFrame(results.T, columns=yeo_labels)\n",
    "    #{'Networks_1':'Visual',\"Networks_2\":'Somatomotor','Networks_3':'Dorsal Attention','Networks_4':'Ventral Attention',\n",
    "    # 'Networks_5':'Limbic','Networks_6':'Frontoparietal','Networks_7':'Default'}\n",
    "    \n",
    "def draw_plot(ax, data, offset,edge_color, fill_color, label=None):\n",
    "    pos = np.arange(data.shape[0])+offset \n",
    "    if label != None:\n",
    "        bp = ax.boxplot(data, positions= pos, widths=0.3, patch_artist=True, labels=label, showfliers=False)\n",
    "    else : \n",
    "        bp = ax.boxplot(data, positions= pos, widths=0.3, patch_artist=True, manage_ticks=False, showfliers=True)\n",
    "    plt.setp(bp['medians'], color='white')\n",
    "    plt.xticks(fontsize=16)\n",
    "    for element in ['boxes', 'whiskers', 'fliers', 'caps']:\n",
    "        plt.setp(bp[element], color=edge_color)\n",
    "    for patch in bp['boxes']:\n",
    "        patch.set(facecolor=fill_color)"
   ]
  },
  {
   "cell_type": "code",
   "execution_count": 8,
   "metadata": {},
   "outputs": [],
   "source": [
    "mist_roi_labels = '../parcellation/MIST_ROI.csv'\n",
    "roi_dataframe = pd.read_csv(mist_roi_labels, sep=';')\n",
    "results_path = '/home/maelle/Results/best_models'\n",
    "\n",
    "conv4_path = os.path.join(results_path, 'sub-02_friends_MIST_ROI_SoundNetEncoding_conv_0800715_0e+00_1e-05_1e-03_opt110_f_conv4_wbidpcmtk3zb_20220428-093227.npy')\n",
    "conv5_path = os.path.join(results_path, 'sub-02_friends_MIST_ROI_SoundNetEncoding_conv_0800715_0e+00_1e-05_1e-03_opt110_f_conv5_wbido6zr4tpq_20220428-200536.npy')\n",
    "conv6_path = os.path.join(results_path, 'sub-02_friends_MIST_ROI_SoundNetEncoding_conv_0800715_0e+00_1e-05_1e-03_opt110_f_conv6_wbid1ah0k16g_20220429-002514.npy')\n",
    "conv7_path = os.path.join(results_path, 'sub-02_friends_MIST_ROI_SoundNetEncoding_conv_0800715_0e+00_1e-05_1e-03_opt110_f_conv7_wbidx3ap6wmq_20220428-230520.npy')\n",
    "no_ft_path = os.path.join(results_path, 'sub-02_friends_MIST_ROI_SoundNetEncoding_conv_0800715_0e+00_1e-05_1e-03_opt110_wbid28gqq8u1_20220429-044704.npy')"
   ]
  },
  {
   "cell_type": "code",
   "execution_count": 9,
   "metadata": {},
   "outputs": [
    {
     "name": "stdout",
     "output_type": "stream",
     "text": [
      "sub-01\n",
      "[2.5581653583558013, 4.4482070332688215, 2.878321778048874, 3.218288519012046, 2.559061313447412, 2.256151927522099, 2.0513432970991867, 1.7629292607407918, 2.9119326298041672] [0.013880984269222192, 5.449300402462114e-05, 0.006046226257485637, 0.00236520997440096, 0.013849802861541766, 0.028858236541425136, 0.04595294322659147, 0.08455498115514777, 0.0055240316347591155]\n",
      "sub-02\n",
      "[2.7242610871956967, 4.822213270002241, 2.4522432032146195, 5.622456509091151, 2.082684432305463, 1.8357761877399181, 1.8463703385002508, 2.0654910894681207, 2.6666659298814617] [0.009080387026558523, 1.5922362084919157e-05, 0.018051133560746446, 1.0616405452940938e-06, 0.04286776291440098, 0.0728596454602955, 0.07127826842578071, 0.04453710090515461, 0.010537825495793867]\n",
      "sub-03\n",
      "[0.22050312213791498, -0.44935656224202913, 1.279431726102034, -0.21794082924244165, -0.24921433710620514, -0.19905914354903098, -0.5152132512010053, -0.31091773898308717, 1.1677264293650822] [0.8264551001204461, 0.655284622851241, 0.20716105719325012, 0.828439145445335, 0.8043044437388099, 0.84309374300702, 0.6088712009902494, 0.7572677455673893, 0.24893425530074004]\n",
      "sub-04\n",
      "[-3.409842515960053, -1.1737253196477517, -0.12119839277955861, -2.4935678596293713, -1.3289279289077236, -1.1875280426256318, -1.4094808199567277, -1.7811782360206492, 2.270553384629425] [0.0013622821816515892, 0.24654643536787357, 0.9040617793446991, 0.0163050907104157, 0.19042619102119782, 0.24111540544687488, 0.16541818624365037, 0.08148682508380391, 0.02790242558450221]\n",
      "sub-06\n",
      "[-2.431355242174308, 0.6820447641586155, -1.1824183223985991, 0.44634310676402766, -1.9189102057681628, -1.0002549213052552, -3.276341750764609, -0.3260963185496997, 0.22863010035836073] [0.018996554168697232, 0.49863070978584867, 0.24311572471702428, 0.6574435670509374, 0.061212822582954726, 0.322420027325508, 0.00200433741003757, 0.745830424634374, 0.8201698120037842]\n"
     ]
    }
   ],
   "source": [
    "from scipy import stats\n",
    "selected_conv = 'conv4'\n",
    "\n",
    "fig, ax = plt.subplots(5, 1, figsize=(17,5*5))\n",
    "for i, sub in enumerate(['sub-01','sub-02','sub-03','sub-04','sub-06']):\n",
    "    print(sub)\n",
    "    for model in os.listdir(results_path):\n",
    "        if sub in model and '.npy' in model:\n",
    "            if selected_conv in model:\n",
    "                conv_path = os.path.join(results_path, model)\n",
    "            elif '_f_conv' not in model:\n",
    "                no_ft_path = os.path.join(results_path, model)\n",
    "                \n",
    "    conv_data = np.load(conv_path)\n",
    "    conv_df = pd.DataFrame(conv_data, columns=roi_dataframe['label'])\n",
    "    no_ft_data = np.load(no_ft_path)\n",
    "    no_ft_df = pd.DataFrame(no_ft_data, columns=roi_dataframe['label'])\n",
    "    conv_df = MIST_to_yeo(conv_data, matches)\n",
    "    no_ft_df = MIST_to_yeo(no_ft_data, matches)\n",
    "#for i, label in roi_dataframe['label'].iteritems():\n",
    "#    print(i, label, runs_df[label].shape)\n",
    "\n",
    "    all_t = list()\n",
    "    all_p = list()\n",
    "    for roi in yeo_labels:\n",
    "        g1 = conv_df[roi]\n",
    "        g2 = no_ft_df[roi]\n",
    "        t, p = stats.ttest_rel(g1, g2)\n",
    "        all_t.append(t)\n",
    "        all_p.append(p)\n",
    "    print(all_t, all_p)\n",
    "\n",
    "    #print(np.count_nonzero(np.array(feature_names)[np.array(all_p) < 0.05]))\n",
    "\n",
    "    #ax[i].set_title('results from baseline and {} of {}'.format(selected_conv, sub), fontsize=18)\n",
    "    ax[i].axhline(ls='--', lw=0.5, c='grey')\n",
    "    ax[i].set_ylabel('r² score', fontsize=16)\n",
    "    draw_plot(ax[i], no_ft_df.T, -0.2, \"tomato\", \"tomato\")\n",
    "    if i == 4 : \n",
    "        draw_plot(ax[i], conv_df.T, +0.2,\"skyblue\", \"skyblue\", label = yeo_labels)\n",
    "        #ax[i].set_xlabel('Regions from the Yeo Parcellation', fontsize=18)\n",
    "    else : \n",
    "        draw_plot(ax[i], conv_df.T, +0.2,\"skyblue\", \"skyblue\")\n",
    "\n",
    "title = 'r2_scores_for_all_runs_of_the_season_42.png'\n",
    "savepath = os.path.join(results_path, title)\n",
    "plt.savefig(savepath, bbox_inches='tight')\n",
    "plt.close()"
   ]
  },
  {
   "cell_type": "code",
   "execution_count": null,
   "metadata": {},
   "outputs": [],
   "source": [
    "ax.set_title('title')\n",
    "ax.axhline(ls='--', lw=0.5, c='grey')\n",
    "draw_plot(ax, no_ft_df.T, -0.2, \"tomato\", \"white\")\n",
    "draw_plot(ax, conv_df.T, +0.2,\"skyblue\", \"white\", label = yeo_labels)\n",
    "\n",
    "#plt.savefig(__file__+'.png', bbox_inches='tight')\n",
    "#plt.show()\n",
    "#plt.close()\n",
    "\n",
    "#adapted from https://stackoverflow.com/questions/43612687/python-matplotlib-box-plot-two-data-sets-side-by-side"
   ]
  },
  {
   "cell_type": "code",
   "execution_count": null,
   "metadata": {},
   "outputs": [],
   "source": [
    "mist_7_labels = {\n",
    "    'cerebellum':['L_CER5', 'R_CER5', 'L_CER9_d', 'R_CER9_d', 'L_CER9_v', 'R_CER9_v', 'L_CER9_m', 'R_CER9_m', 'L_CER7ab', 'R_CER7ab','L_CER6_p','R_CER6_p','L_CER6_d','R_CER6_d','L_CER6_a','R_CER6_a','L_CER7b_m','R_CER7b_m','L_CER7b_l','R_CER7b_l', 'L_N', 'R_N','L_CERCR1','R_CERCR1','L_CERCR2_a','R_CERCR2_a','L_CERCR2_p','R_CERCR2_p'],\n",
    "    'mesolimbic_network':['L_CAUDNH_NACC', 'R_CAUDNH_NACC', 'L_MORBgyr', 'R_MORBgyr', 'L_LORBgyr', 'R_LORBgyr', 'L_TP', 'R_TP', 'R_ITgyr', 'L_ITgyr', 'R_PINS_v', 'L_PINS_v', 'R_PIsul', 'L_PIsul', 'L_STgyr_a', 'R_STgyr_a', 'L_CERVM', 'R_CERVM', 'R_COLsul', 'L_COLsul', 'L_HIPP', 'R_HIPP', 'R_AMY', 'L_AMY'],\n",
    "    'somatomotor_network':['L_MOTnet_vl', 'R_MOTnet_vl', 'L_MOTnet_dl', 'R_MOTnet_dl', 'L_MOTnet_l', 'R_MOTnet_l', 'L_MOTnet_am', 'R_MOTnet_am', 'R_MOTnet_m', 'L_MOTnet_m', 'L_MOTnet_ml', 'R_MOTnet_ml'],\n",
    "    'visual_network':['L_MDVISnet_a', 'R_MDVISnet_a', 'L_MDVISnet_p', 'R_MDVISnet_p', 'L_MVISnet_p', 'R_MVISnet_p', 'L_MVISnet_ad', 'R_MVISnet_ad', 'L_MVISnet_av', 'R_MVISnet_av', 'L_PVISnet_l', 'R_PVISnet_l', 'L_PVISnet_dm', 'R_PVISnet_dm', 'L_PVISnet_vm', 'R_PVISnet_vm', 'R_VVISnet_m', 'L_VVISnet_m', 'R_VVISnet_l', 'L_VVISnet_l', 'R_LVISnet_p', 'L_LVISnet_p', 'R_LVISnet_DP', 'L_LVISnet_DP', 'R_LVISnet_vp', 'L_LVISnet_vp'],\n",
    "    'default_mode_network':['R_MTgyr_a', 'L_MTgyr_a', 'R_L_MTgyr_a', 'R_ANGgyr', 'L_ANGgyr', 'L_MTgyr_p', 'R_MTgyr_p', 'L_PRC_v', 'R_PRC_v', 'R_PCcor', 'L_PCcor', 'L_PRC_d', 'R_PRC_d', 'L_PRC_d', 'R_PRC_d', 'L_POsul_v', 'R_POsul_v', 'L_POsul_d', 'R_POsul_d', 'L_POsul', 'R_POsul', 'R_PGACcor', 'L_PGACcor', 'L_VMPFcor_p', 'R_VMPFcor_p', 'L_VMPFcor_a', 'R_VMPFcor_a', 'L_IPlob', 'L_IPlob', 'L_DMPFcor_ac', 'L_DMPFcor_ac', 'R_DMPFC_ar', 'L_DMPFC_ar', 'L_SFsul_a', 'R_SFgyr_ad', 'L_SFgyr_ad'],\n",
    "    'frontoparietal_network':['L_OCCTgyr_l', 'R_OCCTgyr_l', 'R_FUSgyr_vl', 'L_FUSgyr_vl', 'R_FUSgyr_dl', 'L_FUSgyr_dl', 'L_DVIS_v', 'R_DVIS_v', 'R_DVIS_s', 'L_DVIS_s', 'R_DVIS_vl', 'L_DVIS_vl', 'R_SPlob', 'L_SPlob', 'R_SPlob', 'L_SPlob', 'L_IFsul', 'R_IPsul', 'R_PORB', 'R_IFsul', 'R_MFgyr_p', 'L_MFgyr_pr', 'L_MFgyr_pc', 'L_IPsul', 'R_IPlob', 'R_SFsul', 'L_ACcor_d', 'R_ACcor_d', 'L_DMPFcor_p', 'R_DMPFcor_p', 'L_MFgyr_a', 'R_MFgyr_a', 'L_R_FP_l', 'R_VLPFcor', 'L_VLPFcor', 'L_FP', 'R_FP', 'R_L_FP_l'],\n",
    "    'ventral_attention_network':['L_PUT_a', 'R_PUT_a', 'L_PUT_p', 'R_PUT_p', 'THAL_d', 'R_THAL_d', 'R_THAL_v', 'THAL_v', 'R_CAUDN_v', 'L_CAUDN_v', 'L_CAUDN_d', 'R_CAUDN_d', 'L_CAUDN', 'R_CAUDN', 'R_PINS_d', 'L_PINS_d', 'L_STgyr_m', 'R_STgyr_m', 'R_HSgyr', 'L_HSgyr', 'L_STgyr_p', 'R_STgyr_p', 'L_PCcor', 'R_PCcor', 'R_IMsul', 'L_IMsul', 'R_FEF', 'L_FEF', 'R_CNGsul_p', 'L_CNGsul_p', 'R_PSMcor_p', 'L_PSMcor_p', 'L_PSMcor_a', 'R_PSMcor_a', 'L_AINS_v', 'R_AINS_v', 'L_AINS_pd', 'R_AINS_pd', 'R_AINS_ad', 'L_AINS_ad', 'R_SMgyr', 'L_SMgyr', 'L_R_PCsul','R_l_PCsul', 'L_PCsul_d', 'R_PCsul_d'],\n",
    "    'auditory_network':['L_STgyr_a', 'R_STgyr_a', 'L_STgyr_m', 'R_STgyr_m', 'L_STgyr_p', 'R_STgyr_p', 'R_HSgyr', 'L_HSgyr']\n",
    "}"
   ]
  },
  {
   "cell_type": "code",
   "execution_count": null,
   "metadata": {},
   "outputs": [],
   "source": [
    "for row in roi_dataframe.iterrows():\n",
    "    roi = row[1]\n",
    "    if 'PLANUM' in roi['name']:\n",
    "        print(roi)"
   ]
  }
 ],
 "metadata": {
  "kernelspec": {
   "display_name": "Python 3",
   "language": "python",
   "name": "python3"
  },
  "language_info": {
   "codemirror_mode": {
    "name": "ipython",
    "version": 3
   },
   "file_extension": ".py",
   "mimetype": "text/x-python",
   "name": "python",
   "nbconvert_exporter": "python",
   "pygments_lexer": "ipython3",
   "version": "3.6.9"
  }
 },
 "nbformat": 4,
 "nbformat_minor": 2
}
