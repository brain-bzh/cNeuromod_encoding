{
 "cells": [
  {
   "cell_type": "code",
   "execution_count": 1,
   "id": "846166f0",
   "metadata": {},
   "outputs": [],
   "source": [
    "import os\n",
    "import numpy as np\n",
    "import pandas as pd\n",
    "from matplotlib import pyplot as plt\n",
    "from matplotlib import gridspec\n",
    "from torch import load, device\n",
    "from nilearn import regions, maskers, datasets, surface, plotting\n",
    "\n",
    "import sys\n",
    "sys.path.append('/home/maelle/GitHub_repositories/cNeuromod_encoding_2020')  \n",
    "import models"
   ]
  },
  {
   "cell_type": "code",
   "execution_count": 2,
   "id": "a8adc190",
   "metadata": {},
   "outputs": [],
   "source": [
    "results_path = '/home/maelle/Results/figures/surface_evr_models'\n",
    "r2_tests = '/home/maelle/Results/best_models'\n",
    "subs = ['sub-01', 'sub-02', 'sub-03', 'sub-04', 'sub-05', 'sub-06']\n",
    "MIST_path = '/home/maelle/DataBase/fMRI_parcellations/MIST_parcellation/Parcellations/MIST_ROI.nii.gz'\n",
    "voxel_mask = '/home/maelle/GitHub_repositories/cNeuromod_encoding_2020/parcellation/STG_middle.nii.gz'\n",
    "\n",
    "scales = ['MIST_ROI']#['auditory_Voxels','MIST_ROI']\n",
    "conv = 'conv4'\n",
    "baseline = 'no_ft'\n",
    "diff_name = '{}-{}'.format(conv, baseline)"
   ]
  },
  {
   "cell_type": "code",
   "execution_count": 3,
   "id": "54742995",
   "metadata": {},
   "outputs": [
    {
     "name": "stdout",
     "output_type": "stream",
     "text": [
      "sub-01\n",
      "friends_MIST_ROI_SoundNetEncoding_conv_0800715_0e+00_1e-05_1e-03_opt110_f_conv4_wbid2svgtnue_20220524-113541.pt friends_MIST_ROI_SoundNetEncoding_conv_0800715_0e+00_1e-05_1e-03_opt110_wbid1j4np8t3_20220524-113522.pt\n",
      "sub-02\n",
      "friends_MIST_ROI_SoundNetEncoding_conv_0800715_0e+00_1e-05_1e-03_opt110_f_conv4_wbidpcmtk3zb_20220428-093227.pt friends_MIST_ROI_SoundNetEncoding_conv_0800715_0e+00_1e-05_1e-03_opt110_wbid28gqq8u1_20220429-044704.pt\n",
      "sub-03\n",
      "friends_MIST_ROI_SoundNetEncoding_conv_0700515_0e+00_1e-04_1e-03_opt110_f_conv4_wbid2jl8l7ad_20220407-095803.pt friends_MIST_ROI_SoundNetEncoding_conv_0700515_0e+00_1e-04_1e-03_opt110_wbid2mlgalkf_20220407-095244.pt\n",
      "sub-04\n",
      "friends_MIST_ROI_SoundNetEncoding_conv_0800615_0e+00_1e-05_1e-03_opt110_f_conv4_wbidf0qeh2ll_20220329-112905.pt friends_MIST_ROI_SoundNetEncoding_conv_0800615_0e+00_1e-05_1e-03_opt110_wbidqds77g2d_20220329-110804.pt\n",
      "sub-05\n",
      "friends_MIST_ROI_SoundNetEncoding_conv_0600715_0e+00_1e-06_1e-03_opt110_f_conv4_wbid3p9qsjur_20220624-002906.pt friends_MIST_ROI_SoundNetEncoding_conv_0600715_0e+00_1e-06_1e-03_opt110_wbidangsh31m_20220624-023231.pt\n",
      "sub-06\n",
      "friends_MIST_ROI_SoundNetEncoding_conv_0700615_0e+00_1e-05_1e-03_opt110_f_conv4_wbidyobu6x9u_20220329-131256.pt friends_MIST_ROI_SoundNetEncoding_conv_0700615_0e+00_1e-05_1e-03_opt110_wbid3kok1l6h_20220329-113022.pt\n"
     ]
    }
   ],
   "source": [
    "for scale in scales:\n",
    "    subs_data = {sub:[] for sub in subs}\n",
    "    for sub in subs:\n",
    "        print(sub)\n",
    "        sub_path = os.path.join(r2_tests, sub)\n",
    "        for model in os.listdir(sub_path):\n",
    "            \n",
    "            select_baseline = model.find(baseline) > -1\n",
    "            select_conv = model.find(conv) > -1\n",
    "            select_scale = model.find(scale) > -1\n",
    "            if baseline == 'no_ft' and model.find('f_conv') == -1 and select_scale :\n",
    "                baseline_model = model\n",
    "            elif select_conv and select_scale:\n",
    "                selected_model = model\n",
    "            elif select_baseline and select_scale:\n",
    "                baseline_model = model\n",
    "            else :\n",
    "                pass\n",
    "        print(selected_model, baseline_model)\n",
    "            \n",
    "        conv_path = os.path.join(sub_path, selected_model)\n",
    "        basl_path = os.path.join(sub_path, baseline_model)\n",
    "    \n",
    "        conv_data = load(conv_path, map_location=device('cpu'))['test_r2'].reshape(1,-1)\n",
    "        basl_data = load(basl_path, map_location=device('cpu'))['test_r2'].reshape(1,-1)\n",
    "        diff_data = np.subtract(conv_data, basl_data)\n",
    "        sub_data = {conv : conv_data, \n",
    "                    baseline : basl_data, \n",
    "                    diff_name : diff_data}\n",
    "        subs_data[sub] = sub_data\n",
    "    \n",
    "    #mean of all subjects for 3 conditions (conv, baseline, diff)\n",
    "    mean = {conv : (), baseline : (), diff_name : ()}\n",
    "    for cond in mean.keys():\n",
    "        all_cond = np.array([sub_dic[cond] for sub_dic in subs_data.values()])\n",
    "        cond_mean = np.mean(all_cond, axis=0)\n",
    "        mean[cond] = cond_mean\n",
    "    subs_data['mean']=mean"
   ]
  },
  {
   "cell_type": "code",
   "execution_count": 4,
   "id": "f2693b09",
   "metadata": {},
   "outputs": [],
   "source": [
    "def list_positions_in_matrix2D(nb_rows, nb_col):\n",
    "    i_rows = np.repeat(np.arange(nb_rows), nb_col)\n",
    "    i_col = np.tile(np.arange(nb_col), nb_rows)\n",
    "    pos = [(row, col) for row, col in zip(i_rows, i_col)]\n",
    "    return pos"
   ]
  },
  {
   "cell_type": "code",
   "execution_count": 5,
   "id": "e8d3589c",
   "metadata": {},
   "outputs": [
    {
     "ename": "IndexError",
     "evalue": "index 2 is out of bounds for axis 1 with size 2",
     "output_type": "error",
     "traceback": [
      "\u001b[0;31m---------------------------------------------------------------------------\u001b[0m",
      "\u001b[0;31mIndexError\u001b[0m                                Traceback (most recent call last)",
      "\u001b[0;32m/tmp/ipykernel_25706/73424630.py\u001b[0m in \u001b[0;36m<module>\u001b[0;34m\u001b[0m\n\u001b[1;32m     43\u001b[0m \u001b[0mfig\u001b[0m \u001b[0;34m=\u001b[0m \u001b[0mplt\u001b[0m\u001b[0;34m.\u001b[0m\u001b[0mfigure\u001b[0m\u001b[0;34m(\u001b[0m\u001b[0;34m)\u001b[0m\u001b[0;34m\u001b[0m\u001b[0;34m\u001b[0m\u001b[0m\n\u001b[1;32m     44\u001b[0m \u001b[0mconv_nii\u001b[0m \u001b[0;34m=\u001b[0m \u001b[0mregions\u001b[0m\u001b[0;34m.\u001b[0m\u001b[0msignals_to_img_labels\u001b[0m\u001b[0;34m(\u001b[0m\u001b[0mmean\u001b[0m\u001b[0;34m[\u001b[0m\u001b[0mconv\u001b[0m\u001b[0;34m]\u001b[0m\u001b[0;34m,\u001b[0m \u001b[0mMIST_path\u001b[0m\u001b[0;34m)\u001b[0m\u001b[0;34m\u001b[0m\u001b[0;34m\u001b[0m\u001b[0m\n\u001b[0;32m---> 45\u001b[0;31m \u001b[0msurfplot_plt_axe\u001b[0m\u001b[0;34m(\u001b[0m\u001b[0mnii_data\u001b[0m \u001b[0;34m=\u001b[0m \u001b[0mconv_nii\u001b[0m\u001b[0;34m,\u001b[0m \u001b[0mfig\u001b[0m\u001b[0;34m=\u001b[0m\u001b[0mfig\u001b[0m\u001b[0;34m,\u001b[0m \u001b[0mdisplay\u001b[0m \u001b[0;34m=\u001b[0m \u001b[0;34m'horizontal'\u001b[0m\u001b[0;34m)\u001b[0m\u001b[0;34m\u001b[0m\u001b[0;34m\u001b[0m\u001b[0m\n\u001b[0m",
      "\u001b[0;32m/tmp/ipykernel_25706/73424630.py\u001b[0m in \u001b[0;36msurfplot_plt_axe\u001b[0;34m(nii_data, fig, title, hemis, views, display, texture)\u001b[0m\n\u001b[1;32m     15\u001b[0m     \u001b[0mfsaverage\u001b[0m \u001b[0;34m=\u001b[0m \u001b[0mdatasets\u001b[0m\u001b[0;34m.\u001b[0m\u001b[0mfetch_surf_fsaverage\u001b[0m\u001b[0;34m(\u001b[0m\u001b[0;34m)\u001b[0m\u001b[0;34m\u001b[0m\u001b[0;34m\u001b[0m\u001b[0m\n\u001b[1;32m     16\u001b[0m     \u001b[0;32mfor\u001b[0m \u001b[0mpos\u001b[0m\u001b[0;34m,\u001b[0m \u001b[0;34m(\u001b[0m\u001b[0mhemi\u001b[0m\u001b[0;34m,\u001b[0m \u001b[0mview\u001b[0m\u001b[0;34m)\u001b[0m \u001b[0;32min\u001b[0m \u001b[0mzip\u001b[0m\u001b[0;34m(\u001b[0m\u001b[0mpositions\u001b[0m\u001b[0;34m,\u001b[0m \u001b[0mspecs\u001b[0m\u001b[0;34m)\u001b[0m\u001b[0;34m:\u001b[0m\u001b[0;34m\u001b[0m\u001b[0;34m\u001b[0m\u001b[0m\n\u001b[0;32m---> 17\u001b[0;31m         \u001b[0max\u001b[0m \u001b[0;34m=\u001b[0m \u001b[0mfig\u001b[0m\u001b[0;34m.\u001b[0m\u001b[0madd_subplot\u001b[0m\u001b[0;34m(\u001b[0m\u001b[0mgrid\u001b[0m\u001b[0;34m[\u001b[0m\u001b[0mpos\u001b[0m\u001b[0;34m]\u001b[0m\u001b[0;34m,\u001b[0m \u001b[0mprojection\u001b[0m \u001b[0;34m=\u001b[0m \u001b[0;34m'3d'\u001b[0m\u001b[0;34m)\u001b[0m\u001b[0;34m\u001b[0m\u001b[0;34m\u001b[0m\u001b[0m\n\u001b[0m\u001b[1;32m     18\u001b[0m         \u001b[0mtitle\u001b[0m \u001b[0;34m=\u001b[0m \u001b[0mhemi\u001b[0m \u001b[0;32mif\u001b[0m \u001b[0mpos\u001b[0m\u001b[0;34m[\u001b[0m\u001b[0;36m0\u001b[0m\u001b[0;34m]\u001b[0m \u001b[0;34m==\u001b[0m \u001b[0;36m0\u001b[0m \u001b[0;32melse\u001b[0m \u001b[0;32mNone\u001b[0m\u001b[0;34m\u001b[0m\u001b[0;34m\u001b[0m\u001b[0m\n\u001b[1;32m     19\u001b[0m         \u001b[0;32mif\u001b[0m \u001b[0mhemi\u001b[0m \u001b[0;34m==\u001b[0m \u001b[0;34m'left'\u001b[0m \u001b[0;34m:\u001b[0m\u001b[0;34m\u001b[0m\u001b[0;34m\u001b[0m\u001b[0m\n",
      "\u001b[0;32m~/virtualenv/visu/lib/python3.7/site-packages/matplotlib/gridspec.py\u001b[0m in \u001b[0;36m__getitem__\u001b[0;34m(self, key)\u001b[0m\n\u001b[1;32m    255\u001b[0m                 \u001b[0;32mraise\u001b[0m \u001b[0mValueError\u001b[0m\u001b[0;34m(\u001b[0m\u001b[0;34m\"Unrecognized subplot spec\"\u001b[0m\u001b[0;34m)\u001b[0m \u001b[0;32mfrom\u001b[0m \u001b[0merr\u001b[0m\u001b[0;34m\u001b[0m\u001b[0;34m\u001b[0m\u001b[0m\n\u001b[1;32m    256\u001b[0m             num1, num2 = np.ravel_multi_index(\n\u001b[0;32m--> 257\u001b[0;31m                 \u001b[0;34m[\u001b[0m\u001b[0m_normalize\u001b[0m\u001b[0;34m(\u001b[0m\u001b[0mk1\u001b[0m\u001b[0;34m,\u001b[0m \u001b[0mnrows\u001b[0m\u001b[0;34m,\u001b[0m \u001b[0;36m0\u001b[0m\u001b[0;34m)\u001b[0m\u001b[0;34m,\u001b[0m \u001b[0m_normalize\u001b[0m\u001b[0;34m(\u001b[0m\u001b[0mk2\u001b[0m\u001b[0;34m,\u001b[0m \u001b[0mncols\u001b[0m\u001b[0;34m,\u001b[0m \u001b[0;36m1\u001b[0m\u001b[0;34m)\u001b[0m\u001b[0;34m]\u001b[0m\u001b[0;34m,\u001b[0m\u001b[0;34m\u001b[0m\u001b[0;34m\u001b[0m\u001b[0m\n\u001b[0m\u001b[1;32m    258\u001b[0m                 (nrows, ncols))\n\u001b[1;32m    259\u001b[0m         \u001b[0;32melse\u001b[0m\u001b[0;34m:\u001b[0m  \u001b[0;31m# Single key\u001b[0m\u001b[0;34m\u001b[0m\u001b[0;34m\u001b[0m\u001b[0m\n",
      "\u001b[0;32m~/virtualenv/visu/lib/python3.7/site-packages/matplotlib/gridspec.py\u001b[0m in \u001b[0;36m_normalize\u001b[0;34m(key, size, axis)\u001b[0m\n\u001b[1;32m    243\u001b[0m                     \u001b[0;32mreturn\u001b[0m \u001b[0mkey\u001b[0m\u001b[0;34m,\u001b[0m \u001b[0mkey\u001b[0m\u001b[0;34m\u001b[0m\u001b[0;34m\u001b[0m\u001b[0m\n\u001b[1;32m    244\u001b[0m                 \u001b[0;32melif\u001b[0m \u001b[0maxis\u001b[0m \u001b[0;32mis\u001b[0m \u001b[0;32mnot\u001b[0m \u001b[0;32mNone\u001b[0m\u001b[0;34m:\u001b[0m\u001b[0;34m\u001b[0m\u001b[0;34m\u001b[0m\u001b[0m\n\u001b[0;32m--> 245\u001b[0;31m                     raise IndexError(f\"index {orig_key} is out of bounds for \"\n\u001b[0m\u001b[1;32m    246\u001b[0m                                      f\"axis {axis} with size {size}\")\n\u001b[1;32m    247\u001b[0m                 \u001b[0;32melse\u001b[0m\u001b[0;34m:\u001b[0m  \u001b[0;31m# flat index\u001b[0m\u001b[0;34m\u001b[0m\u001b[0;34m\u001b[0m\u001b[0m\n",
      "\u001b[0;31mIndexError\u001b[0m: index 2 is out of bounds for axis 1 with size 2"
     ]
    },
    {
     "data": {
      "image/png": "[encoded data removed]",
      "text/plain": [
       "<Figure size 432x288 with 2 Axes>"
      ]
     },
     "metadata": {
      "needs_background": "light"
     },
     "output_type": "display_data"
    }
   ],
   "source": [
    "def surfplot_plt_axe(nii_data, fig, title=None, \n",
    "                     hemis = ['left', 'right'], views = ['lateral', 'medial'], \n",
    "                     display = 'grid',texture = 'pial'):\n",
    "    \n",
    "    if display == 'horizontal' : \n",
    "        nrows = 1\n",
    "        ncols = len(hemis)+len(views)\n",
    "    elif display == 'vertical':\n",
    "        nrows = len(views)+len(hemis)\n",
    "        ncols = 1\n",
    "    else :\n",
    "        nrows = len(views)\n",
    "        ncols = len(hemis)\n",
    "        \n",
    "    grid = fig.add_gridspec(nrows = nrows, ncols = ncols, wspace=-0.5, hspace=-0.2)\n",
    "    positions = list_positions_in_matrix2D(nb_rows=nrows, nb_col=ncols)\n",
    "    all_views = np.repeat(views, len(hemis))\n",
    "    specs = [(view, hemi) for view, hemi in zip(hemis*len(views), all_views)]\n",
    "    \n",
    "    fsaverage = datasets.fetch_surf_fsaverage()  \n",
    "    for pos, (hemi, view) in zip(positions, specs):\n",
    "        ax = fig.add_subplot(grid[pos], projection = '3d')\n",
    "        title = hemi if pos[0] == 0 else None\n",
    "        if hemi == 'left' :\n",
    "            kwargs = {\n",
    "            'surf_mesh' : fsaverage.infl_left,\n",
    "            'stat_map' : surface.vol_to_surf(nii_data, fsaverage.pial_left),\n",
    "            'bg_map' : fsaverage.sulc_left,\n",
    "            'hemi' : hemi,\n",
    "            'view' : view,\n",
    "            'axes' : ax,\n",
    "            'figure' : fig, \n",
    "            'colorbar' : False\n",
    "            }\n",
    "        else: \n",
    "            kwargs = {\n",
    "            'surf_mesh' : fsaverage.infl_right,\n",
    "            'stat_map' : surface.vol_to_surf(nii_data, fsaverage.pial_right),\n",
    "            'bg_map' : fsaverage.sulc_right,\n",
    "            'hemi' : hemi,\n",
    "            'view' : view,\n",
    "            'axes' : ax,\n",
    "            'figure' : fig, \n",
    "            'colorbar' : False\n",
    "            }\n",
    "        plotting.plot_surf_stat_map(**kwargs)\n",
    "\n",
    "fig = plt.figure()\n",
    "conv_nii = regions.signals_to_img_labels(mean[conv], MIST_path)\n",
    "surfplot_plt_axe(nii_data = conv_nii, fig=fig, display = 'horizontal')"
   ]
  },
  {
   "cell_type": "code",
   "execution_count": null,
   "id": "25a0f6c8",
   "metadata": {},
   "outputs": [],
   "source": [
    "fig = plt.figure(layout='constrained')\n",
    "grid = gridspec.GridSpec(nrows=3, ncols=3, figure=fig)\n",
    "positions = list_positions_in_matrix2D(nb_rows=3, nb_col=3)\n",
    "\n",
    "for condition in [conv, baseline, diff_name]:\n",
    "    for (sub, data), pos in zip(subs_data.items(), positions):\n",
    "        if sub == 'mean' :  \n",
    "            subfig = fig.add_subfigure(grid[2,:])\n",
    "            colorbar = True\n",
    "        else :        \n",
    "            subfig = fig.add_subfigure(grid[pos])\n",
    "            colorbar = False\n",
    "\n",
    "        conv_nii = regions.signals_to_img_labels(data[condition], MIST_path)\n",
    "        plotting.plot_img_on_surf(conv_nii, title = sub, colorbar=colorbar, **{'figure' : subfig})\n",
    "    "
   ]
  },
  {
   "cell_type": "code",
   "execution_count": null,
   "id": "5491a9ef",
   "metadata": {},
   "outputs": [],
   "source": [
    "fig, ax = plotting.plot_img_on_surf(conv_nii)\n",
    "fig.show()"
   ]
  }
 ],
 "metadata": {
  "kernelspec": {
   "display_name": "Python 3",
   "language": "python",
   "name": "python3"
  },
  "language_info": {
   "codemirror_mode": {
    "name": "ipython",
    "version": 3
   },
   "file_extension": ".py",
   "mimetype": "text/x-python",
   "name": "python",
   "nbconvert_exporter": "python",
   "pygments_lexer": "ipython3",
   "version": "3.7.5"
  }
 },
 "nbformat": 4,
 "nbformat_minor": 5
}
