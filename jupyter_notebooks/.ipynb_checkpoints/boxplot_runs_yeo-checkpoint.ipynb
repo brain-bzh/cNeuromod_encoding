{
 "cells": [
  {
   "cell_type": "code",
   "execution_count": 2,
   "metadata": {},
   "outputs": [],
   "source": [
    "import os\n",
    "import numpy as np\n",
    "import pandas as pd\n",
    "import nibabel as nib\n",
    "from matplotlib import pyplot as plt\n",
    "from nilearn import datasets, plotting, image, maskers\n",
    "from torch import load, device\n",
    "from nilearn.plotting import plot_roi, plot_stat_map"
   ]
  },
  {
   "cell_type": "code",
   "execution_count": null,
   "metadata": {},
   "outputs": [],
   "source": [
    "#Atlas\n",
    "atlas_yeo_2011 = datasets.fetch_atlas_yeo_2011()\n",
    "yeo = atlas_yeo_2011.thick_7\n",
    "mist = '/home/maelle/DataBase/fMRI_parcellations/MIST_parcellation/Parcellations/MIST_ROI.nii.gz'"
   ]
  },
  {
   "cell_type": "code",
   "execution_count": 3,
   "metadata": {},
   "outputs": [
    {
     "ename": "NameError",
     "evalue": "name 'mist' is not defined",
     "output_type": "error",
     "traceback": [
      "\u001b[0;31m---------------------------------------------------------------------------\u001b[0m",
      "\u001b[0;31mNameError\u001b[0m                                 Traceback (most recent call last)",
      "\u001b[0;32m/tmp/ipykernel_31430/894184071.py\u001b[0m in \u001b[0;36m<module>\u001b[0;34m\u001b[0m\n\u001b[1;32m      1\u001b[0m \u001b[0mmasker\u001b[0m \u001b[0;34m=\u001b[0m \u001b[0mmaskers\u001b[0m\u001b[0;34m.\u001b[0m\u001b[0mNiftiMasker\u001b[0m\u001b[0;34m(\u001b[0m\u001b[0mstandardize\u001b[0m\u001b[0;34m=\u001b[0m\u001b[0;32mFalse\u001b[0m\u001b[0;34m,\u001b[0m \u001b[0mdetrend\u001b[0m\u001b[0;34m=\u001b[0m\u001b[0;32mFalse\u001b[0m\u001b[0;34m)\u001b[0m\u001b[0;34m\u001b[0m\u001b[0;34m\u001b[0m\u001b[0m\n\u001b[0;32m----> 2\u001b[0;31m \u001b[0mmasker\u001b[0m\u001b[0;34m.\u001b[0m\u001b[0mfit\u001b[0m\u001b[0;34m(\u001b[0m\u001b[0mmist\u001b[0m\u001b[0;34m)\u001b[0m\u001b[0;34m\u001b[0m\u001b[0;34m\u001b[0m\u001b[0m\n\u001b[0m\u001b[1;32m      3\u001b[0m \u001b[0mmist_vec\u001b[0m \u001b[0;34m=\u001b[0m \u001b[0mmasker\u001b[0m\u001b[0;34m.\u001b[0m\u001b[0mtransform\u001b[0m\u001b[0;34m(\u001b[0m\u001b[0mmist\u001b[0m\u001b[0;34m)\u001b[0m\u001b[0;34m\u001b[0m\u001b[0;34m\u001b[0m\u001b[0m\n\u001b[1;32m      4\u001b[0m \u001b[0;32mimport\u001b[0m \u001b[0mnumpy\u001b[0m \u001b[0;32mas\u001b[0m \u001b[0mnp\u001b[0m\u001b[0;34m\u001b[0m\u001b[0;34m\u001b[0m\u001b[0m\n\u001b[1;32m      5\u001b[0m \u001b[0mnp\u001b[0m\u001b[0;34m.\u001b[0m\u001b[0munique\u001b[0m\u001b[0;34m(\u001b[0m\u001b[0mmist_vec\u001b[0m\u001b[0;34m)\u001b[0m\u001b[0;34m\u001b[0m\u001b[0;34m\u001b[0m\u001b[0m\n",
      "\u001b[0;31mNameError\u001b[0m: name 'mist' is not defined"
     ]
    }
   ],
   "source": [
    "masker = maskers.NiftiMasker(standardize=False, detrend=False)\n",
    "masker.fit(mist)\n",
    "mist_vec = masker.transform(mist)\n",
    "\n",
    "np.unique(mist_vec)\n",
    "yeo_vec = masker.transform(yeo)\n",
    "yeo_vec = np.round(yeo_vec)\n",
    "np.unique(yeo_vec)\n",
    "matches = []\n",
    "match = []\n",
    "best_overlap = []\n",
    "for i, roi in enumerate(np.unique(mist_vec)):\n",
    "    overlap = []\n",
    "    for roi2 in np.unique(yeo_vec):\n",
    "        overlap.append(np.sum(yeo_vec[mist_vec == roi] == roi2) / np.sum(mist_vec == roi))\n",
    "    best_overlap.append(np.max(overlap))\n",
    "    match.append(np.argmax(overlap))\n",
    "    matches.append((i+1, np.argmax(overlap)))\n",
    "\n",
    "#print(matches)\n",
    "#for ind, roi in enumerate(np.unique(mist_vec)):\n",
    "#    print(f'roi {int(roi)} in MIST has maximal overlap with Yeo network {match[ind]} ({best_overlap[ind]})')"
   ]
  },
  {
   "cell_type": "code",
   "execution_count": null,
   "metadata": {},
   "outputs": [],
   "source": [
    "yeo_labels = ['None', 'Visual', 'Somatomotor', 'Dorsal Att.', 'Ventral Att.', \n",
    "                  'Limbic', 'Frontoparietal', 'Default', 'Audition'] \n",
    "def MIST_to_yeo(data, matches, yeo_labels=yeo_labels):\n",
    "    yeo_networks = [np.array([]).reshape(-1, 47), np.array([]).reshape(-1, 47), np.array([]).reshape(-1, 47),\n",
    "                   np.array([]).reshape(-1, 47), np.array([]).reshape(-1, 47), np.array([]).reshape(-1, 47),\n",
    "                   np.array([]).reshape(-1, 47), np.array([]).reshape(-1, 47)]\n",
    "    auditory_mist_roi = ['L_STgyr_m', 'R_STgyr_m', 'L_STgyr_p', 'R_STgyr_p', 'R_HSgyr']# 'L_HSgyr'] #, L_STgyr_a', 'R_STgyr_a', \n",
    "    auditory_network = np.array([]).reshape(-1, 47) \n",
    "    data_transpose = data.T\n",
    "    for roi, (i, yeo_i) in zip(data_transpose, matches):\n",
    "            roi = roi.reshape(1, -1)\n",
    "            yeo_networks[yeo_i] = np.concatenate((yeo_networks[yeo_i], roi), axis=0)\n",
    "            if roi_dataframe['label'][i-1] in auditory_mist_roi:\n",
    "                auditory_network = np.concatenate((auditory_network, roi), axis=0)\n",
    "    results = np.array([]).reshape(-1, 47)\n",
    "    for net in yeo_networks:\n",
    "            array_mean = np.mean(net, axis=0).reshape(1,-1)\n",
    "            results = np.concatenate((results, array_mean), axis=0)\n",
    "\n",
    "\n",
    "    auditory_mean = auditory_network.mean(axis=0).reshape(1,-1)\n",
    "    results = np.concatenate((results, auditory_mean), axis=0)\n",
    "\n",
    "    return pd.DataFrame(results.T, columns=yeo_labels)\n",
    "    #{'Networks_1':'Visual',\"Networks_2\":'Somatomotor','Networks_3':'Dorsal Attention','Networks_4':'Ventral Attention',\n",
    "    # 'Networks_5':'Limbic','Networks_6':'Frontoparietal','Networks_7':'Default'}\n",
    "    \n",
    "def draw_plot(ax, data, offset,edge_color, fill_color, label=None):\n",
    "    pos = np.arange(data.shape[0])+offset \n",
    "    if label != None:\n",
    "        bp = ax.boxplot(data, positions= pos, widths=0.3, patch_artist=True, labels=label, showfliers=False)\n",
    "    else : \n",
    "        bp = ax.boxplot(data, positions= pos, widths=0.3, patch_artist=True, manage_ticks=False, showfliers=True)\n",
    "    plt.setp(bp['medians'], color='white')\n",
    "    plt.xticks(fontsize=16)\n",
    "    for element in ['boxes', 'whiskers', 'fliers', 'caps']:\n",
    "        plt.setp(bp[element], color=edge_color)\n",
    "    for patch in bp['boxes']:\n",
    "        patch.set(facecolor=fill_color)"
   ]
  },
  {
   "cell_type": "code",
   "execution_count": null,
   "metadata": {},
   "outputs": [],
   "source": [
    "mist_roi_labels = '../parcellation/MIST_ROI.csv'\n",
    "roi_dataframe = pd.read_csv(mist_roi_labels, sep=';')\n",
    "results_path = '/home/maelle/Results/best_models'\n",
    "\n",
    "conv4_path = os.path.join(results_path, 'sub-02_friends_MIST_ROI_SoundNetEncoding_conv_0800715_0e+00_1e-05_1e-03_opt110_f_conv4_wbidpcmtk3zb_20220428-093227.npy')\n",
    "conv5_path = os.path.join(results_path, 'sub-02_friends_MIST_ROI_SoundNetEncoding_conv_0800715_0e+00_1e-05_1e-03_opt110_f_conv5_wbido6zr4tpq_20220428-200536.npy')\n",
    "conv6_path = os.path.join(results_path, 'sub-02_friends_MIST_ROI_SoundNetEncoding_conv_0800715_0e+00_1e-05_1e-03_opt110_f_conv6_wbid1ah0k16g_20220429-002514.npy')\n",
    "conv7_path = os.path.join(results_path, 'sub-02_friends_MIST_ROI_SoundNetEncoding_conv_0800715_0e+00_1e-05_1e-03_opt110_f_conv7_wbidx3ap6wmq_20220428-230520.npy')\n",
    "no_ft_path = os.path.join(results_path, 'sub-02_friends_MIST_ROI_SoundNetEncoding_conv_0800715_0e+00_1e-05_1e-03_opt110_wbid28gqq8u1_20220429-044704.npy')"
   ]
  },
  {
   "cell_type": "code",
   "execution_count": null,
   "metadata": {},
   "outputs": [],
   "source": [
    "from scipy import stats\n",
    "selected_conv = 'conv4'\n",
    "\n",
    "fig, ax = plt.subplots(5, 1, figsize=(17,5*5))\n",
    "for i, sub in enumerate(['sub-01','sub-02','sub-03','sub-04','sub-06']):\n",
    "    print(sub)\n",
    "    for model in os.listdir(results_path):\n",
    "        if sub in model and '.npy' in model:\n",
    "            if selected_conv in model:\n",
    "                conv_path = os.path.join(results_path, model)\n",
    "            elif '_f_conv' not in model:\n",
    "                no_ft_path = os.path.join(results_path, model)\n",
    "                \n",
    "    conv_data = np.load(conv_path)\n",
    "    conv_df = pd.DataFrame(conv_data, columns=roi_dataframe['label'])\n",
    "    no_ft_data = np.load(no_ft_path)\n",
    "    no_ft_df = pd.DataFrame(no_ft_data, columns=roi_dataframe['label'])\n",
    "    conv_df = MIST_to_yeo(conv_data, matches)\n",
    "    no_ft_df = MIST_to_yeo(no_ft_data, matches)\n",
    "#for i, label in roi_dataframe['label'].iteritems():\n",
    "#    print(i, label, runs_df[label].shape)\n",
    "\n",
    "    all_t = list()\n",
    "    all_p = list()\n",
    "    for roi in yeo_labels:\n",
    "        g1 = conv_df[roi]\n",
    "        g2 = no_ft_df[roi]\n",
    "        t, p = stats.ttest_rel(g1, g2)\n",
    "        all_t.append(t)\n",
    "        all_p.append(p)\n",
    "    print(all_t, all_p)\n",
    "\n",
    "    #print(np.count_nonzero(np.array(feature_names)[np.array(all_p) < 0.05]))\n",
    "\n",
    "    #ax[i].set_title('results from baseline and {} of {}'.format(selected_conv, sub), fontsize=18)\n",
    "    ax[i].axhline(ls='--', lw=0.5, c='grey')\n",
    "    ax[i].set_ylabel('r² score', fontsize=16)\n",
    "    draw_plot(ax[i], no_ft_df.T, -0.2, \"tomato\", \"tomato\")\n",
    "    if i == 4 : \n",
    "        draw_plot(ax[i], conv_df.T, +0.2,\"skyblue\", \"skyblue\", label = yeo_labels)\n",
    "        #ax[i].set_xlabel('Regions from the Yeo Parcellation', fontsize=18)\n",
    "    else : \n",
    "        draw_plot(ax[i], conv_df.T, +0.2,\"skyblue\", \"skyblue\")\n",
    "\n",
    "title = 'r2_scores_for_all_runs_of_the_season_42.png'\n",
    "savepath = os.path.join(results_path, title)\n",
    "plt.savefig(savepath, bbox_inches='tight')\n",
    "plt.close()"
   ]
  },
  {
   "cell_type": "code",
   "execution_count": null,
   "metadata": {},
   "outputs": [],
   "source": [
    "ax.set_title('title')\n",
    "ax.axhline(ls='--', lw=0.5, c='grey')\n",
    "draw_plot(ax, no_ft_df.T, -0.2, \"tomato\", \"white\")\n",
    "draw_plot(ax, conv_df.T, +0.2,\"skyblue\", \"white\", label = yeo_labels)\n",
    "\n",
    "#plt.savefig(__file__+'.png', bbox_inches='tight')\n",
    "#plt.show()\n",
    "#plt.close()\n",
    "\n",
    "#adapted from https://stackoverflow.com/questions/43612687/python-matplotlib-box-plot-two-data-sets-side-by-side"
   ]
  },
  {
   "cell_type": "code",
   "execution_count": null,
   "metadata": {},
   "outputs": [],
   "source": [
    "mist_7_labels = {\n",
    "    'cerebellum':['L_CER5', 'R_CER5', 'L_CER9_d', 'R_CER9_d', 'L_CER9_v', 'R_CER9_v', 'L_CER9_m', 'R_CER9_m', 'L_CER7ab', 'R_CER7ab','L_CER6_p','R_CER6_p','L_CER6_d','R_CER6_d','L_CER6_a','R_CER6_a','L_CER7b_m','R_CER7b_m','L_CER7b_l','R_CER7b_l', 'L_N', 'R_N','L_CERCR1','R_CERCR1','L_CERCR2_a','R_CERCR2_a','L_CERCR2_p','R_CERCR2_p'],\n",
    "    'mesolimbic_network':['L_CAUDNH_NACC', 'R_CAUDNH_NACC', 'L_MORBgyr', 'R_MORBgyr', 'L_LORBgyr', 'R_LORBgyr', 'L_TP', 'R_TP', 'R_ITgyr', 'L_ITgyr', 'R_PINS_v', 'L_PINS_v', 'R_PIsul', 'L_PIsul', 'L_STgyr_a', 'R_STgyr_a', 'L_CERVM', 'R_CERVM', 'R_COLsul', 'L_COLsul', 'L_HIPP', 'R_HIPP', 'R_AMY', 'L_AMY'],\n",
    "    'somatomotor_network':['L_MOTnet_vl', 'R_MOTnet_vl', 'L_MOTnet_dl', 'R_MOTnet_dl', 'L_MOTnet_l', 'R_MOTnet_l', 'L_MOTnet_am', 'R_MOTnet_am', 'R_MOTnet_m', 'L_MOTnet_m', 'L_MOTnet_ml', 'R_MOTnet_ml'],\n",
    "    'visual_network':['L_MDVISnet_a', 'R_MDVISnet_a', 'L_MDVISnet_p', 'R_MDVISnet_p', 'L_MVISnet_p', 'R_MVISnet_p', 'L_MVISnet_ad', 'R_MVISnet_ad', 'L_MVISnet_av', 'R_MVISnet_av', 'L_PVISnet_l', 'R_PVISnet_l', 'L_PVISnet_dm', 'R_PVISnet_dm', 'L_PVISnet_vm', 'R_PVISnet_vm', 'R_VVISnet_m', 'L_VVISnet_m', 'R_VVISnet_l', 'L_VVISnet_l', 'R_LVISnet_p', 'L_LVISnet_p', 'R_LVISnet_DP', 'L_LVISnet_DP', 'R_LVISnet_vp', 'L_LVISnet_vp'],\n",
    "    'default_mode_network':['R_MTgyr_a', 'L_MTgyr_a', 'R_L_MTgyr_a', 'R_ANGgyr', 'L_ANGgyr', 'L_MTgyr_p', 'R_MTgyr_p', 'L_PRC_v', 'R_PRC_v', 'R_PCcor', 'L_PCcor', 'L_PRC_d', 'R_PRC_d', 'L_PRC_d', 'R_PRC_d', 'L_POsul_v', 'R_POsul_v', 'L_POsul_d', 'R_POsul_d', 'L_POsul', 'R_POsul', 'R_PGACcor', 'L_PGACcor', 'L_VMPFcor_p', 'R_VMPFcor_p', 'L_VMPFcor_a', 'R_VMPFcor_a', 'L_IPlob', 'L_IPlob', 'L_DMPFcor_ac', 'L_DMPFcor_ac', 'R_DMPFC_ar', 'L_DMPFC_ar', 'L_SFsul_a', 'R_SFgyr_ad', 'L_SFgyr_ad'],\n",
    "    'frontoparietal_network':['L_OCCTgyr_l', 'R_OCCTgyr_l', 'R_FUSgyr_vl', 'L_FUSgyr_vl', 'R_FUSgyr_dl', 'L_FUSgyr_dl', 'L_DVIS_v', 'R_DVIS_v', 'R_DVIS_s', 'L_DVIS_s', 'R_DVIS_vl', 'L_DVIS_vl', 'R_SPlob', 'L_SPlob', 'R_SPlob', 'L_SPlob', 'L_IFsul', 'R_IPsul', 'R_PORB', 'R_IFsul', 'R_MFgyr_p', 'L_MFgyr_pr', 'L_MFgyr_pc', 'L_IPsul', 'R_IPlob', 'R_SFsul', 'L_ACcor_d', 'R_ACcor_d', 'L_DMPFcor_p', 'R_DMPFcor_p', 'L_MFgyr_a', 'R_MFgyr_a', 'L_R_FP_l', 'R_VLPFcor', 'L_VLPFcor', 'L_FP', 'R_FP', 'R_L_FP_l'],\n",
    "    'ventral_attention_network':['L_PUT_a', 'R_PUT_a', 'L_PUT_p', 'R_PUT_p', 'THAL_d', 'R_THAL_d', 'R_THAL_v', 'THAL_v', 'R_CAUDN_v', 'L_CAUDN_v', 'L_CAUDN_d', 'R_CAUDN_d', 'L_CAUDN', 'R_CAUDN', 'R_PINS_d', 'L_PINS_d', 'L_STgyr_m', 'R_STgyr_m', 'R_HSgyr', 'L_HSgyr', 'L_STgyr_p', 'R_STgyr_p', 'L_PCcor', 'R_PCcor', 'R_IMsul', 'L_IMsul', 'R_FEF', 'L_FEF', 'R_CNGsul_p', 'L_CNGsul_p', 'R_PSMcor_p', 'L_PSMcor_p', 'L_PSMcor_a', 'R_PSMcor_a', 'L_AINS_v', 'R_AINS_v', 'L_AINS_pd', 'R_AINS_pd', 'R_AINS_ad', 'L_AINS_ad', 'R_SMgyr', 'L_SMgyr', 'L_R_PCsul','R_l_PCsul', 'L_PCsul_d', 'R_PCsul_d'],\n",
    "    'auditory_network':['L_STgyr_a', 'R_STgyr_a', 'L_STgyr_m', 'R_STgyr_m', 'L_STgyr_p', 'R_STgyr_p', 'R_HSgyr', 'L_HSgyr']\n",
    "}"
   ]
  }
 ],
 "metadata": {
  "kernelspec": {
   "display_name": "Python 3",
   "language": "python",
   "name": "python3"
  },
  "language_info": {
   "codemirror_mode": {
    "name": "ipython",
    "version": 3
   },
   "file_extension": ".py",
   "mimetype": "text/x-python",
   "name": "python",
   "nbconvert_exporter": "python",
   "pygments_lexer": "ipython3",
   "version": "3.7.5"
  }
 },
 "nbformat": 4,
 "nbformat_minor": 2
}
