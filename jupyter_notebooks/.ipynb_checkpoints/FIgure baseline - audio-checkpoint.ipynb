{
 "cells": [
  {
   "cell_type": "code",
   "execution_count": 1,
   "id": "fafbd42d",
   "metadata": {},
   "outputs": [],
   "source": [
    "import os\n",
    "import numpy as np\n",
    "import pandas as pd\n",
    "from torch import load, device\n",
    "\n",
    "import sys\n",
    "sys.path.append('/home/maelle/GitHub_repositories/cNeuromod_encoding_2020')  \n",
    "import models"
   ]
  },
  {
   "cell_type": "code",
   "execution_count": 13,
   "id": "8607d207",
   "metadata": {
    "scrolled": true
   },
   "outputs": [
    {
     "name": "stdout",
     "output_type": "stream",
     "text": [
      "          label                                           name\n",
      "roi                                                           \n",
      "1       R_SPlob                 right_SUPERIOR_PARIETAL_LOBULE\n",
      "2       L_SPlob                  left_SUPERIOR_PARIETAL_LOBULE\n",
      "3     R_CAUDN_v                          right_CAUDATE_ventral\n",
      "4     L_CAUDN_v                           left_CAUDATE_ventral\n",
      "5       L_CERVM                         left_CEREBELLUM_VERMIS\n",
      "..          ...                                            ...\n",
      "206   R_STgyr_p        right_SUPERIOR_TEMPORAL_GYRUS_posterior\n",
      "207   L_VLPFcor           left_VENTROLATERAL_PREFRONTAL_CORTEX\n",
      "208  R_CERCR2_p              right_CEREBELLUM_CRUSII_posterior\n",
      "209  L_PSMcor_a   left_PRE_SUPPLEMENTARY_MOTOR_CORTEX_anterior\n",
      "210  R_PSMcor_a  right_PRE_SUPPLEMENTARY_MOTOR_CORTEX_anterior\n",
      "\n",
      "[210 rows x 2 columns]\n"
     ]
    }
   ],
   "source": [
    "subjects = ['sub-01', 'sub-02', 'sub-03', 'sub-04', 'sub-05', 'sub-06']\n",
    "basepath = '/home/maelle/Results/best_models'\n",
    "mist_roi_labels = '/home/maelle/DataBase/fMRI_parcellations/MIST_parcellation/Parcel_Information/MIST_ROI.csv'\n",
    "\n",
    "label_pd = pd.read_csv(mist_roi_labels, sep=';')\n",
    "label_data = label_pd[['roi', 'label', 'name']].set_index('roi')"
   ]
  },
  {
   "cell_type": "code",
   "execution_count": null,
   "id": "d8b49a78",
   "metadata": {},
   "outputs": [],
   "source": [
    "for sub in subjects : \n",
    "    sub_path = os.path.join(basepath, sub)\n",
    "    for model in os.listdir(sub_path):\n",
    "        if not '_f_conv' in model and not 'Voxels' in model:\n",
    "            model_path = os.path.join(sub_path, model)\n",
    "            print(model)\n",
    "            a = load(model_path, map_location=device('cpu'))['test_r2'].reshape(1,-1)\n",
    "            sub_serie = "
   ]
  },
  {
   "cell_type": "code",
   "execution_count": null,
   "id": "f46531b0",
   "metadata": {},
   "outputs": [],
   "source": [
    "1"
   ]
  }
 ],
 "metadata": {
  "kernelspec": {
   "display_name": "Python 3",
   "language": "python",
   "name": "python3"
  },
  "language_info": {
   "codemirror_mode": {
    "name": "ipython",
    "version": 3
   },
   "file_extension": ".py",
   "mimetype": "text/x-python",
   "name": "python",
   "nbconvert_exporter": "python",
   "pygments_lexer": "ipython3",
   "version": "3.7.5"
  }
 },
 "nbformat": 4,
 "nbformat_minor": 5
}
