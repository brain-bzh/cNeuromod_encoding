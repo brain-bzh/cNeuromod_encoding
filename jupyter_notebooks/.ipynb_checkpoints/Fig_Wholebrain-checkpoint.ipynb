{
 "cells": [
  {
   "cell_type": "code",
   "execution_count": 1,
   "metadata": {},
   "outputs": [
    {
     "name": "stderr",
     "output_type": "stream",
     "text": [
      "/home/maelle/anaconda3/lib/python3.6/site-packages/nilearn/__init__.py:69: FutureWarning: Python 3.6 support is deprecated and will be removed in release 0.10 of Nilearn. Consider switching to Python 3.8 or 3.9.\n",
      "  _python_deprecation_warnings()\n"
     ]
    }
   ],
   "source": [
    "import os\n",
    "import numpy as np\n",
    "import pandas as pd\n",
    "from scipy import stats\n",
    "from torch import load, device\n",
    "\n",
    "import sys\n",
    "sys.path.append('/home/maelle/GitHub_repositories/cNeuromod_encoding_2020')  \n",
    "import models\n",
    "\n",
    "from nilearn import datasets, plotting, image\n",
    "#from nilearn.plotting import plot_roi, plot_stat_map\n",
    "from nilearn.maskers import NiftiMasker\n",
    "from matplotlib import pyplot as plt\n",
    "import matplotlib.gridspec as grid_spec"
   ]
  },
  {
   "cell_type": "code",
   "execution_count": 33,
   "metadata": {},
   "outputs": [],
   "source": [
    "#paths + variables globales\n",
    "scale = 'MIST_ROI'\n",
    "subs = ['sub-01', 'sub-02', 'sub-03', 'sub-04', 'sub-05', 'sub-06']\n",
    "cond_colors = {'baseline': 'lightgrey', 'conv7': 'purple', 'conv6':'red', 'conv5':'green', 'conv4':'cyan'}\n",
    "result_path = '/home/maelle/Results/'\n",
    "r2_tests = '/home/maelle/Results/best_models' #+ sub-01, ... --> \n",
    "s4_predict = '/home/maelle/Results/best_models/predict_S4_runs'\n"
   ]
  },
  {
   "cell_type": "code",
   "execution_count": 56,
   "metadata": {},
   "outputs": [],
   "source": [
    "#parcellations\n",
    "mist = '/home/maelle/DataBase/fMRI_parcellations/MIST_parcellation/Parcellations/MIST_ROI.nii.gz'\n",
    "mist_roi_labels = '../parcellation/MIST_ROI.csv'\n",
    "roi_dataframe = pd.read_csv(mist_roi_labels, sep=';')\n",
    "\n",
    "atlas_yeo_2011 = datasets.fetch_atlas_yeo_2011()\n",
    "yeo = atlas_yeo_2011.thick_7\n",
    "yeo_labels = [('None', 'dimgrey'), ('Visual', '#781286'), ('Somatomotor','#4682B4'), \n",
    "              ('Dorsal Att.', '#00760E'), ('Ventral Att.', '#C43AFA'),('Limbic', '#DCF8A4'), \n",
    "              ('Frontoparietal', '#E69422'), ('Default', '#CD3E4E'), ('Audition', \"cyan\")] \n",
    "\n",
    "#{'Networks_1':'Visual',\"Networks_2\":'Somatomotor','Networks_3':'Dorsal Attention','Networks_4':'Ventral Attention',\n",
    "# 'Networks_5':'Limbic','Networks_6':'Frontoparietal','Networks_7':'Default'}    "
   ]
  },
  {
   "cell_type": "markdown",
   "metadata": {},
   "source": [
    "plot r² score par mist roi (best to worst ?) pour chaque condition (baseline -> conv4)"
   ]
  },
  {
   "cell_type": "code",
   "execution_count": 35,
   "metadata": {},
   "outputs": [],
   "source": [
    "fig1, ax1 = plt.subplots(1, len(subs), figsize=(30*len(subs),20))\n",
    "fig1.patch.set_facecolor('white')\n",
    "for i, sub in enumerate(subs):\n",
    "    sub_path = os.path.join(r2_tests, sub)\n",
    "    cond_r2 = {'baseline': [], 'conv7': [], 'conv6':[], 'conv5':[], 'conv4':[]}\n",
    "    for model in os.listdir(sub_path):\n",
    "        if scale in model:\n",
    "            model_path = os.path.join(sub_path, model)\n",
    "            model_dict = load(model_path, map_location=device('cpu'))\n",
    "            index = model.find('_f_')\n",
    "            condition = model[index+3: index+3+5] if index > -1 else 'baseline'\n",
    "            cond_r2[condition] = model_dict['test_r2']\n",
    "            \n",
    "    order_roi = np.flip(np.argsort(cond_r2['baseline'])) \n",
    "    cond_r2['baseline'] = np.flip(np.sort(cond_r2['baseline']))\n",
    "    names = np.array(roi_dataframe['name'])[order_roi]\n",
    "    annotation = ''\n",
    "    for j in range(10):\n",
    "        annotation+= '{} : {}\\n'.format(j+1, names[j])\n",
    "    \n",
    "    ax1[i].fill_between(range(1, len(cond_r2['baseline'])+1), cond_r2['baseline'], label = 'baseline', \n",
    "                color=cond_colors['baseline'])\n",
    "    \n",
    "    for j, (condition, model_r2) in enumerate(cond_r2.items()):\n",
    "        if condition != 'baseline':\n",
    "            model_r2 = model_r2[order_roi]\n",
    "            ax1[i].plot(range(1, len(model_r2)+1), model_r2, label = condition, \n",
    "                                color=cond_colors[condition])\n",
    "    y_ticks = ax1[i].get_yticks()\n",
    "    ax1[i].annotate(annotation, (80, y_ticks[-1]/3), fontsize=30)\n",
    "    ax1[i].legend(loc=3, fontsize=30)\n",
    "    ax1[i].set_title(sub, fontsize=40)\n",
    "    ax1[i].tick_params(axis='y', labelsize=20)\n",
    "    ax1[i].set_ylabel('r² score', fontsize=30)\n",
    "    ax1[i].set_xlabel('ROI ordered by r² score value', fontsize=30)\n",
    "\n",
    "title = 'r2_scores_for_all_cdt_best_mods_subs.png'\n",
    "savepath = os.path.join(result_path, title)\n",
    "plt.savefig(savepath, bbox_inches='tight')\n",
    "plt.close()"
   ]
  },
  {
   "cell_type": "markdown",
   "metadata": {},
   "source": [
    "plot surfacique + anatomique  pour un sujet (baseline / conv4)"
   ]
  },
  {
   "cell_type": "code",
   "execution_count": 4,
   "metadata": {},
   "outputs": [],
   "source": [
    "sujet = 'sub-03'"
   ]
  },
  {
   "cell_type": "markdown",
   "metadata": {},
   "source": [
    "Ridgeline Yeo"
   ]
  },
  {
   "cell_type": "code",
   "execution_count": 26,
   "metadata": {},
   "outputs": [],
   "source": [
    "from nilearn.maskers import NiftiMasker\n",
    "masker = NiftiMasker(standardize=False, detrend=False)\n",
    "masker.fit(mist)\n",
    "mist_vec = masker.transform(mist)\n",
    "np.unique(mist_vec)\n",
    "yeo_vec = masker.transform(yeo)\n",
    "yeo_vec = np.round(yeo_vec)\n",
    "np.unique(yeo_vec)\n",
    "matches = []\n",
    "match = []\n",
    "best_overlap = []\n",
    "for i, roi in enumerate(np.unique(mist_vec)):\n",
    "    overlap = []\n",
    "    for roi2 in np.unique(yeo_vec):\n",
    "        overlap.append(np.sum(yeo_vec[mist_vec == roi] == roi2) / np.sum(mist_vec == roi))\n",
    "    best_overlap.append(np.max(overlap))\n",
    "    match.append(np.argmax(overlap))\n",
    "    matches.append((i+1, np.argmax(overlap)))"
   ]
  },
  {
   "cell_type": "code",
   "execution_count": 62,
   "metadata": {},
   "outputs": [],
   "source": [
    "def MIST_to_yeo(data, matches, yeo_labels=yeo_labels, ordered=False, order=None):\n",
    "    data_transpose = data.T\n",
    "    nb_runs = data.shape[0]\n",
    "    \n",
    "    yeo_networks = [np.array([]).reshape(-1, nb_runs) for _ in range(len(yeo_labels)-1)]\n",
    "    auditory_mist_roi = ['L_STgyr_m', 'R_STgyr_m', 'L_STgyr_p', 'R_STgyr_p', 'R_HSgyr', 'L_HSgyr'] #, L_STgyr_a', 'R_STgyr_a', \n",
    "    auditory_network = np.array([]).reshape(-1, nb_runs) \n",
    "\n",
    "    for roi, (i, yeo_i) in zip(data_transpose, matches):\n",
    "            roi = roi.reshape(1, -1)\n",
    "            yeo_networks[yeo_i] = np.concatenate((yeo_networks[yeo_i], roi), axis=0)\n",
    "            if roi_dataframe['label'][i-1] in auditory_mist_roi:\n",
    "                auditory_network = np.concatenate((auditory_network, roi), axis=0)\n",
    "    results = np.array([]).reshape(-1, nb_runs)\n",
    "    for net in yeo_networks:\n",
    "            array_mean = np.mean(net, axis=0).reshape(1,-1)\n",
    "            results = np.concatenate((results, array_mean), axis=0)\n",
    "    auditory_mean = auditory_network.mean(axis=0).reshape(1,-1)\n",
    "    results = np.concatenate((results, auditory_mean), axis=0)\n",
    "    yeo_labels = [name for (name, color) in yeo_labels]\n",
    "    if ordered : \n",
    "        print(results.shape)\n",
    "    \n",
    "    return pd.DataFrame(results.T, columns=yeo_labels)"
   ]
  },
  {
   "cell_type": "code",
   "execution_count": 63,
   "metadata": {},
   "outputs": [],
   "source": [
    "#adapté de https://matplotlib.org/matplotblog/posts/create-ridgeplots-in-matplotlib/\n",
    "def ridgeline_yeo(sub, conv_df, no_ft_df, yeo_labels=yeo_labels):\n",
    "    gs = (grid_spec.GridSpec(9,1))\n",
    "    fig2 = plt.figure(figsize=(8,20))\n",
    "    fig2.patch.set_facecolor('lightgray')\n",
    "    ax2 =[]\n",
    "    for i, (roi, color) in enumerate(yeo_labels):\n",
    "        ax2.append(fig2.add_subplot(gs[i:i+1, 0:]))\n",
    "                \n",
    "        plot_ft = (conv_df[roi].plot.kde(ax=ax2[-1],color=color, lw=0.5))\n",
    "        plot_basl = (no_ft_df[roi].plot.kde(ax=ax2[-1],color=\"w\", lw=2)) \n",
    "        x_ft = plot_ft.get_children()[0]._x\n",
    "        y_ft = plot_ft.get_children()[0]._y\n",
    "\n",
    "        ax2[-1].fill_between(x_ft,y_ft,color=color)    \n",
    "\n",
    "        ax2[-1].set_xlim(-0.25, 0.5)\n",
    "        ax2[-1].set_ylim(0,35)\n",
    "\n",
    "        rect = ax2[-1].patch\n",
    "        rect.set_alpha(0)\n",
    "        \n",
    "        ax2[-1].set_yticklabels([])\n",
    "        ax2[-1].set_ylabel('')\n",
    "\n",
    "        if i == len(yeo_labels)-1:\n",
    "            ax2[-1].set_xlabel(\"r²score\", fontsize=25)\n",
    "\n",
    "        spines = [\"top\",\"right\",\"left\",\"bottom\"]\n",
    "        for s in spines:\n",
    "            ax2[-1].spines[s].set_visible(False)\n",
    "\n",
    "        roi = roi.replace(\" \",\"\\n\")\n",
    "        ax2[-1].text(-0.25,5,roi,fontweight=\"bold\",fontsize=20,ha=\"left\")\n",
    "\n",
    "\n",
    "    gs.update(hspace= 0)\n",
    "    fig2.text(0.8,0.95,sub,fontsize=30)\n",
    "    plt.tight_layout()\n",
    "    \n",
    "    title = 'r2_scores_distribution_{}.png'.format(sub)\n",
    "    savepath = os.path.join(result_path, title)\n",
    "    plt.savefig(savepath, bbox_inches='tight')\n",
    "    plt.close()"
   ]
  },
  {
   "cell_type": "code",
   "execution_count": 61,
   "metadata": {},
   "outputs": [
    {
     "name": "stdout",
     "output_type": "stream",
     "text": [
      "sub-01\n",
      "sub-02\n",
      "sub-03\n",
      "sub-04\n",
      "sub-05\n",
      "sub-06\n"
     ]
    }
   ],
   "source": [
    "#create dataframe for visualuation\n",
    "selected_conv = 'conv4'\n",
    "\n",
    "for i, sub in enumerate(subs):\n",
    "    print(sub)\n",
    "    for model in os.listdir(s4_predict):\n",
    "        if sub in model and '.npy' in model:\n",
    "            if selected_conv in model:\n",
    "                conv_path = os.path.join(s4_predict, model)\n",
    "            elif '_f_conv' not in model:\n",
    "                no_ft_path = os.path.join(s4_predict, model)\n",
    "                \n",
    "    conv_data = np.load(conv_path)\n",
    "    no_ft_data = np.load(no_ft_path)\n",
    "    \n",
    "    conv_df = MIST_to_yeo(conv_data, matches, ordered=True)\n",
    "    no_ft_df = MIST_to_yeo(no_ft_data, matches, ordered=True)\n",
    "    \n",
    "    data_df = pd.concat((no_ft_df, conv_df))\n",
    "    ridgeline_yeo(sub, conv_df, no_ft_df)"
   ]
  },
  {
   "cell_type": "markdown",
   "metadata": {},
   "source": [
    "association de tous les plots en 1 figure"
   ]
  }
 ],
 "metadata": {
  "kernelspec": {
   "display_name": "Python 3",
   "language": "python",
   "name": "python3"
  },
  "language_info": {
   "codemirror_mode": {
    "name": "ipython",
    "version": 3
   },
   "file_extension": ".py",
   "mimetype": "text/x-python",
   "name": "python",
   "nbconvert_exporter": "python",
   "pygments_lexer": "ipython3",
   "version": "3.6.9"
  }
 },
 "nbformat": 4,
 "nbformat_minor": 2
}
